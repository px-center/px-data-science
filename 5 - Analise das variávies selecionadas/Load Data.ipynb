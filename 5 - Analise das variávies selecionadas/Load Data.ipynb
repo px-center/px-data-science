{
 "cells": [
  {
   "cell_type": "markdown",
   "metadata": {},
   "source": [
    "# Carregamento, limpeza e preparação dos dados\n"
   ]
  },
  {
   "cell_type": "code",
   "execution_count": null,
   "metadata": {},
   "outputs": [],
   "source": [
    "# Carregando os pacotes\n",
    "import pandas as pd\n",
    "import numpy as np\n",
    "pd.set_option('display.max_rows', None)\n",
    "pd.set_option('display.max_columns', None)\n",
    "\n",
    "\n",
    "# dicionário - informações sobre as variáveis\n",
    "dic = pd.read_excel('data/dicionario-limpo.xlsx', skiprows=1)\n",
    "# retirando as linhas vazias\n",
    "w = dic.Tamanho.dropna(axis=0).values\n",
    "ww = w.astype(int)\n",
    "df = pd.read_fwf('data/PNS_2019.txt', header=None, dtype=str, widths=ww)\n",
    "\n",
    "desc = dic.iloc[1:, 4].dropna(axis=0)\n",
    "nomes = dic.iloc[1:,2].dropna(axis=0)\n",
    "df.columns = nomes\n",
    "df = df.apply(pd.to_numeric)\n",
    "data = {\n",
    "    'V0001': [11, 12, 13, 14, 15, 16, 17, 21, 22, 23, 24, 25, 26, 27, 28, 29, 31, 32, 33, 35, 41, 42, 43, 50, 51, 52, 53],\n",
    "    'Estado': ['Rondônia', 'Acre', 'Amazonas', 'Roraima', 'Pará', 'Amapá', 'Tocantins', 'Maranhão', 'Piauí', 'Ceará',\n",
    "               'Rio Grande do Norte', 'Paraíba', 'Pernambuco', 'Alagoas', 'Sergipe', 'Bahia', 'Minas Gerais', \n",
    "               'Espírito Santo', 'Rio de Janeiro', 'São Paulo', 'Paraná', 'Santa Catarina', 'Rio Grande do Sul', \n",
    "               'Mato Grosso do Sul', 'Mato Grosso', 'Goiás', 'Distrito Federal'],\n",
    "    'IDH': [0.737, 0.663, 0.674, 0.707, 0.646, 0.708, 0.699, 0.639, 0.646, 0.682, 0.684, 0.658, 0.673, 0.631, 0.665, 0.673, \n",
    "            0.731, 0.740, 0.761, 0.783, 0.749, 0.774, 0.746, 0.729, 0.725, 0.735, 0.824],\n",
    "    'Expectativa_de_Vida': [74.0, 73.0, 73.6, 71.5, 72.7, 73.9, 73.4, 71.7, 70.9, 73.1, 74.7, 74.3, 73.9, 71.6, 72.7, 73.5, \n",
    "                            76.3, 77.2, 76.5, 77.8, 76.7, 78.4, 77.7, 75.2, 74.5, 74.8, 77.6]\n",
    "}\n",
    "\n",
    "df_idh = pd.DataFrame(data)\n",
    "\n",
    "df_analises = df.merge(df_idh, how=\"left\", on=\"V0001\")\n",
    "# df_analises = df_analises.groupby(\"Estado\").mean()\n",
    "df_analises.head()\n",
    "df.head()\n"
   ]
  },
  {
   "cell_type": "code",
   "execution_count": null,
   "metadata": {},
   "outputs": [],
   "source": [
    "# import pandas as pd\n",
    "\n",
    "# colunas_numericas = df_analises.select_dtypes(include='number').columns\n",
    "\n",
    "# for col in colunas_numericas:\n",
    "#     media = df_analises[col].mean()\n",
    "#     df_analises[col].fillna(media, inplace=True)\n"
   ]
  },
  {
   "cell_type": "code",
   "execution_count": null,
   "metadata": {},
   "outputs": [],
   "source": [
    "df_analises.to_csv(\"data/df_analises.csv\")\n",
    "dic.to_csv(\"data/dic.csv\")"
   ]
  },
  {
   "cell_type": "code",
   "execution_count": null,
   "metadata": {},
   "outputs": [],
   "source": [
    "df_analises.head(100)"
   ]
  }
 ],
 "metadata": {
  "kernelspec": {
   "display_name": "idh_px_venv",
   "language": "python",
   "name": "python3"
  },
  "language_info": {
   "codemirror_mode": {
    "name": "ipython",
    "version": 3
   },
   "file_extension": ".py",
   "mimetype": "text/x-python",
   "name": "python",
   "nbconvert_exporter": "python",
   "pygments_lexer": "ipython3",
   "version": "3.10.12"
  }
 },
 "nbformat": 4,
 "nbformat_minor": 2
}
