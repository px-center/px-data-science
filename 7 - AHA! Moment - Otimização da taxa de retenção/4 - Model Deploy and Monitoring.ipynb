{
 "cells": [
  {
   "cell_type": "code",
   "execution_count": 1,
   "metadata": {},
   "outputs": [
    {
     "name": "stdout",
     "output_type": "stream",
     "text": [
      "Hash numérica de 5 dígitos: 94799\n"
     ]
    }
   ],
   "source": [
    "from src.libs.lib import *\n",
    "import pandas as pd\n",
    "import matplotlib.pyplot as plt\n",
    "pd.set_option('display.max_rows', None)\n",
    "pd.set_option('display.max_columns', None)\n",
    "df_original = pd.read_csv(\"src/data/quantidade_de_motoristas_por_estado_resultados.csv\")\n",
    "df_original[\"Quantidade de Motoristas\"] = df_original[\"Quantidade de Motoristas\"].astype(int)\n",
    "#2.6s"
   ]
  },
  {
   "cell_type": "code",
   "execution_count": 2,
   "metadata": {},
   "outputs": [
    {
     "data": {
      "text/html": [
       "<div>\n",
       "<style scoped>\n",
       "    .dataframe tbody tr th:only-of-type {\n",
       "        vertical-align: middle;\n",
       "    }\n",
       "\n",
       "    .dataframe tbody tr th {\n",
       "        vertical-align: top;\n",
       "    }\n",
       "\n",
       "    .dataframe thead th {\n",
       "        text-align: right;\n",
       "    }\n",
       "</style>\n",
       "<table border=\"1\" class=\"dataframe\">\n",
       "  <thead>\n",
       "    <tr style=\"text-align: right;\">\n",
       "      <th></th>\n",
       "      <th>Unnamed: 0.1</th>\n",
       "      <th>Unnamed: 0</th>\n",
       "      <th>Estado</th>\n",
       "      <th>Quantidade de Motoristas</th>\n",
       "      <th>tier</th>\n",
       "      <th>tier_label</th>\n",
       "    </tr>\n",
       "  </thead>\n",
       "  <tbody>\n",
       "    <tr>\n",
       "      <th>0</th>\n",
       "      <td>0</td>\n",
       "      <td>0</td>\n",
       "      <td>Acre</td>\n",
       "      <td>8</td>\n",
       "      <td>0</td>\n",
       "      <td>Poucos motoristas</td>\n",
       "    </tr>\n",
       "    <tr>\n",
       "      <th>1</th>\n",
       "      <td>1</td>\n",
       "      <td>1</td>\n",
       "      <td>Alagoas</td>\n",
       "      <td>273</td>\n",
       "      <td>0</td>\n",
       "      <td>Poucos motoristas</td>\n",
       "    </tr>\n",
       "    <tr>\n",
       "      <th>2</th>\n",
       "      <td>2</td>\n",
       "      <td>2</td>\n",
       "      <td>Amapá</td>\n",
       "      <td>8</td>\n",
       "      <td>0</td>\n",
       "      <td>Poucos motoristas</td>\n",
       "    </tr>\n",
       "    <tr>\n",
       "      <th>3</th>\n",
       "      <td>3</td>\n",
       "      <td>3</td>\n",
       "      <td>Amazonas</td>\n",
       "      <td>63</td>\n",
       "      <td>0</td>\n",
       "      <td>Poucos motoristas</td>\n",
       "    </tr>\n",
       "    <tr>\n",
       "      <th>4</th>\n",
       "      <td>5</td>\n",
       "      <td>5</td>\n",
       "      <td>Ceará</td>\n",
       "      <td>353</td>\n",
       "      <td>0</td>\n",
       "      <td>Poucos motoristas</td>\n",
       "    </tr>\n",
       "  </tbody>\n",
       "</table>\n",
       "</div>"
      ],
      "text/plain": [
       "   Unnamed: 0.1  Unnamed: 0    Estado  Quantidade de Motoristas  tier  \\\n",
       "0             0           0      Acre                         8     0   \n",
       "1             1           1   Alagoas                       273     0   \n",
       "2             2           2     Amapá                         8     0   \n",
       "3             3           3  Amazonas                        63     0   \n",
       "4             5           5     Ceará                       353     0   \n",
       "\n",
       "          tier_label  \n",
       "0  Poucos motoristas  \n",
       "1  Poucos motoristas  \n",
       "2  Poucos motoristas  \n",
       "3  Poucos motoristas  \n",
       "4  Poucos motoristas  "
      ]
     },
     "execution_count": 2,
     "metadata": {},
     "output_type": "execute_result"
    }
   ],
   "source": [
    "df_original.head()"
   ]
  },
  {
   "cell_type": "code",
   "execution_count": 3,
   "metadata": {},
   "outputs": [
    {
     "name": "stdout",
     "output_type": "stream",
     "text": [
      "Hash numérica de 5 dígitos: 94799_clustering_state_drivers_quantitative\n"
     ]
    }
   ],
   "source": [
    "df = df_original[['Estado', 'Quantidade de Motoristas',\n",
    "       'tier', 'tier_label']].copy()\n",
    "\n",
    "\n",
    "\n",
    "texto = \"8 - Modelo Estrutura de Estudos - Python Notebook\"\n",
    "hash_5_digitos = gerar_hash_numerica(texto)\n",
    "nome_tabela_bq = f\"{hash_5_digitos}_clustering_state_drivers_quantitative\"\n",
    "print(f\"Hash numérica de 5 dígitos: {nome_tabela_bq}\")"
   ]
  },
  {
   "cell_type": "code",
   "execution_count": 4,
   "metadata": {},
   "outputs": [
    {
     "name": "stdout",
     "output_type": "stream",
     "text": [
      "Dados inseridos com sucesso na tabela: formal-purpose-354320.datascience.94799_clustering_state_drivers_quantitative\n"
     ]
    }
   ],
   "source": [
    "insert_into_bigquery(df, table_id=nome_tabela_bq)"
   ]
  }
 ],
 "metadata": {
  "kernelspec": {
   "display_name": "Python 3",
   "language": "python",
   "name": "python3"
  },
  "language_info": {
   "codemirror_mode": {
    "name": "ipython",
    "version": 3
   },
   "file_extension": ".py",
   "mimetype": "text/x-python",
   "name": "python",
   "nbconvert_exporter": "python",
   "pygments_lexer": "ipython3",
   "version": "3.10.12"
  }
 },
 "nbformat": 4,
 "nbformat_minor": 2
}
