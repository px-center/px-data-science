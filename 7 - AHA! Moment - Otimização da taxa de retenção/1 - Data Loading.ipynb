{
 "cells": [
  {
   "cell_type": "code",
   "execution_count": 1,
   "metadata": {},
   "outputs": [
    {
     "name": "stdout",
     "output_type": "stream",
     "text": [
      "Nome do estudo: 7 - AHA! Moment - Otimização da taxa de retenção\n",
      "Hash numérica de 5 dígitos: 05259\n",
      "Execução em: 2025-04-03 15:52:16\n",
      "Conexão estabelecida com sucesso!\n"
     ]
    }
   ],
   "source": [
    "from src.libs.lib import *\n",
    "import pandas as pd\n",
    "import matplotlib.pyplot as plt\n",
    "dfs = load_data_db()\n",
    "df = dfs[\"days_until_first_contract_and_price\"]\n",
    "df = df[df[\"week\"] >= 0]\n",
    "mask = df[\"total_contracts_until_week\"] <= (df[\"week\"]+1)*7\n",
    "df = df[mask]\n",
    "df[\"retention\"] = (df[\"status\"] == \"Active\").astype(int)"
   ]
  },
  {
   "cell_type": "code",
   "execution_count": 2,
   "metadata": {},
   "outputs": [
    {
     "data": {
      "text/html": [
       "<div>\n",
       "<style scoped>\n",
       "    .dataframe tbody tr th:only-of-type {\n",
       "        vertical-align: middle;\n",
       "    }\n",
       "\n",
       "    .dataframe tbody tr th {\n",
       "        vertical-align: top;\n",
       "    }\n",
       "\n",
       "    .dataframe thead th {\n",
       "        text-align: right;\n",
       "    }\n",
       "</style>\n",
       "<table border=\"1\" class=\"dataframe\">\n",
       "  <thead>\n",
       "    <tr style=\"text-align: right;\">\n",
       "      <th></th>\n",
       "      <th>type</th>\n",
       "      <th>status</th>\n",
       "      <th>driver_id</th>\n",
       "      <th>week</th>\n",
       "      <th>total_contracts_until_week</th>\n",
       "      <th>total_value_until_week</th>\n",
       "      <th>retention</th>\n",
       "    </tr>\n",
       "  </thead>\n",
       "  <tbody>\n",
       "    <tr>\n",
       "      <th>0</th>\n",
       "      <td>Diária</td>\n",
       "      <td>Active</td>\n",
       "      <td>137</td>\n",
       "      <td>7</td>\n",
       "      <td>1</td>\n",
       "      <td>915</td>\n",
       "      <td>1</td>\n",
       "    </tr>\n",
       "    <tr>\n",
       "      <th>1</th>\n",
       "      <td>Diária</td>\n",
       "      <td>Churn</td>\n",
       "      <td>868</td>\n",
       "      <td>7</td>\n",
       "      <td>1</td>\n",
       "      <td>2275</td>\n",
       "      <td>0</td>\n",
       "    </tr>\n",
       "    <tr>\n",
       "      <th>2</th>\n",
       "      <td>Coleta/Entrega</td>\n",
       "      <td>Active</td>\n",
       "      <td>881</td>\n",
       "      <td>9</td>\n",
       "      <td>1</td>\n",
       "      <td>3120</td>\n",
       "      <td>1</td>\n",
       "    </tr>\n",
       "    <tr>\n",
       "      <th>3</th>\n",
       "      <td>Coleta/Entrega</td>\n",
       "      <td>Active</td>\n",
       "      <td>881</td>\n",
       "      <td>10</td>\n",
       "      <td>2</td>\n",
       "      <td>4940</td>\n",
       "      <td>1</td>\n",
       "    </tr>\n",
       "    <tr>\n",
       "      <th>4</th>\n",
       "      <td>Coleta/Entrega</td>\n",
       "      <td>Active</td>\n",
       "      <td>881</td>\n",
       "      <td>11</td>\n",
       "      <td>3</td>\n",
       "      <td>5219</td>\n",
       "      <td>1</td>\n",
       "    </tr>\n",
       "  </tbody>\n",
       "</table>\n",
       "</div>"
      ],
      "text/plain": [
       "             type  status  driver_id week  total_contracts_until_week  \\\n",
       "0          Diária  Active        137    7                           1   \n",
       "1          Diária   Churn        868    7                           1   \n",
       "2  Coleta/Entrega  Active        881    9                           1   \n",
       "3  Coleta/Entrega  Active        881   10                           2   \n",
       "4  Coleta/Entrega  Active        881   11                           3   \n",
       "\n",
       "   total_value_until_week  retention  \n",
       "0                     915          1  \n",
       "1                    2275          0  \n",
       "2                    3120          1  \n",
       "3                    4940          1  \n",
       "4                    5219          1  "
      ]
     },
     "execution_count": 2,
     "metadata": {},
     "output_type": "execute_result"
    }
   ],
   "source": [
    "df.head()"
   ]
  },
  {
   "cell_type": "code",
   "execution_count": 3,
   "metadata": {},
   "outputs": [],
   "source": [
    "df.to_csv(\"src/data/days_until_first_contract_and_price\")"
   ]
  }
 ],
 "metadata": {
  "kernelspec": {
   "display_name": ".aha_venv",
   "language": "python",
   "name": "python3"
  },
  "language_info": {
   "codemirror_mode": {
    "name": "ipython",
    "version": 3
   },
   "file_extension": ".py",
   "mimetype": "text/x-python",
   "name": "python",
   "nbconvert_exporter": "python",
   "pygments_lexer": "ipython3",
   "version": "3.10.12"
  }
 },
 "nbformat": 4,
 "nbformat_minor": 2
}
