{
 "cells": [
  {
   "cell_type": "code",
   "execution_count": 1,
   "metadata": {},
   "outputs": [
    {
     "name": "stdout",
     "output_type": "stream",
     "text": [
      "Hash numérica de 5 dígitos: 94799\n"
     ]
    }
   ],
   "source": [
    "from src.libs.lib import *\n",
    "import pandas as pd\n",
    "import matplotlib.pyplot as plt\n",
    "pd.set_option('display.max_rows', None)\n",
    "pd.set_option('display.max_columns', None)\n"
   ]
  },
  {
   "cell_type": "code",
   "execution_count": 2,
   "metadata": {},
   "outputs": [
    {
     "name": "stdout",
     "output_type": "stream",
     "text": [
      "Conexão estabelecida com sucesso!\n"
     ]
    }
   ],
   "source": [
    "dfs = load_data_db()\n",
    "#42.5s"
   ]
  },
  {
   "cell_type": "code",
   "execution_count": 3,
   "metadata": {},
   "outputs": [],
   "source": [
    "dfs[\"timeline\"].columns = ['ID do contrato', 'Nome do evento ocorrido no contrato', 'data do evento', 'Data da criação do contrato',\n",
    "       'Data de inicio do contrato', 'tipo de contrato']\n",
    "\n",
    "\n",
    "mask = dfs[\"timeline\"]['Nome do evento ocorrido no contrato'] == \"freight_completed\"\n",
    "dfs[\"timeline\"].loc[mask, \"data do evento\"] = dfs[\"timeline\"].loc[mask, 'Data de inicio do contrato']\n"
   ]
  },
  {
   "cell_type": "code",
   "execution_count": 4,
   "metadata": {},
   "outputs": [
    {
     "data": {
      "text/html": [
       "<div>\n",
       "<style scoped>\n",
       "    .dataframe tbody tr th:only-of-type {\n",
       "        vertical-align: middle;\n",
       "    }\n",
       "\n",
       "    .dataframe tbody tr th {\n",
       "        vertical-align: top;\n",
       "    }\n",
       "\n",
       "    .dataframe thead th {\n",
       "        text-align: right;\n",
       "    }\n",
       "</style>\n",
       "<table border=\"1\" class=\"dataframe\">\n",
       "  <thead>\n",
       "    <tr style=\"text-align: right;\">\n",
       "      <th></th>\n",
       "      <th>ID do contrato</th>\n",
       "      <th>Nome do evento ocorrido no contrato</th>\n",
       "      <th>data do evento</th>\n",
       "      <th>Data da criação do contrato</th>\n",
       "      <th>Data de inicio do contrato</th>\n",
       "      <th>tipo de contrato</th>\n",
       "    </tr>\n",
       "  </thead>\n",
       "  <tbody>\n",
       "    <tr>\n",
       "      <th>0</th>\n",
       "      <td>4</td>\n",
       "      <td>freight_created</td>\n",
       "      <td>2019-07-29 22:40:00</td>\n",
       "      <td>2019-07-29 22:40:00</td>\n",
       "      <td>2019-07-30 22:39:18</td>\n",
       "      <td>Diária</td>\n",
       "    </tr>\n",
       "    <tr>\n",
       "      <th>1</th>\n",
       "      <td>4</td>\n",
       "      <td>freight_start_at</td>\n",
       "      <td>2019-07-30 22:39:18</td>\n",
       "      <td>2019-07-29 22:40:00</td>\n",
       "      <td>2019-07-30 22:39:18</td>\n",
       "      <td>Diária</td>\n",
       "    </tr>\n",
       "    <tr>\n",
       "      <th>2</th>\n",
       "      <td>5</td>\n",
       "      <td>freight_start_at</td>\n",
       "      <td>2021-05-24 08:00:00</td>\n",
       "      <td>2021-05-28 16:58:25</td>\n",
       "      <td>2021-05-24 08:00:00</td>\n",
       "      <td>Diária</td>\n",
       "    </tr>\n",
       "    <tr>\n",
       "      <th>3</th>\n",
       "      <td>5</td>\n",
       "      <td>freight_created</td>\n",
       "      <td>2021-05-28 16:58:25</td>\n",
       "      <td>2021-05-28 16:58:25</td>\n",
       "      <td>2021-05-24 08:00:00</td>\n",
       "      <td>Diária</td>\n",
       "    </tr>\n",
       "    <tr>\n",
       "      <th>4</th>\n",
       "      <td>19</td>\n",
       "      <td>freight_created</td>\n",
       "      <td>2019-12-06 14:33:52</td>\n",
       "      <td>2019-12-06 14:33:52</td>\n",
       "      <td>2019-12-09 14:33:10</td>\n",
       "      <td>Diária</td>\n",
       "    </tr>\n",
       "  </tbody>\n",
       "</table>\n",
       "</div>"
      ],
      "text/plain": [
       "   ID do contrato Nome do evento ocorrido no contrato       data do evento  \\\n",
       "0               4                     freight_created  2019-07-29 22:40:00   \n",
       "1               4                    freight_start_at  2019-07-30 22:39:18   \n",
       "2               5                    freight_start_at  2021-05-24 08:00:00   \n",
       "3               5                     freight_created  2021-05-28 16:58:25   \n",
       "4              19                     freight_created  2019-12-06 14:33:52   \n",
       "\n",
       "  Data da criação do contrato Data de inicio do contrato tipo de contrato  \n",
       "0         2019-07-29 22:40:00        2019-07-30 22:39:18           Diária  \n",
       "1         2019-07-29 22:40:00        2019-07-30 22:39:18           Diária  \n",
       "2         2021-05-28 16:58:25        2021-05-24 08:00:00           Diária  \n",
       "3         2021-05-28 16:58:25        2021-05-24 08:00:00           Diária  \n",
       "4         2019-12-06 14:33:52        2019-12-09 14:33:10           Diária  "
      ]
     },
     "execution_count": 4,
     "metadata": {},
     "output_type": "execute_result"
    }
   ],
   "source": [
    "dfs[\"timeline\"].head()"
   ]
  },
  {
   "cell_type": "code",
   "execution_count": 11,
   "metadata": {},
   "outputs": [],
   "source": [
    "lista = [\n",
    "        'freight_completed',\n",
    "        'start_at_change',\n",
    "        'canceled']\n",
    "mask = dfs[\"timeline\"][\"Nome do evento ocorrido no contrato\"].isin(lista)\n",
    "df = dfs[\"timeline\"][mask]"
   ]
  },
  {
   "cell_type": "code",
   "execution_count": 12,
   "metadata": {},
   "outputs": [
    {
     "data": {
      "text/plain": [
       "154118"
      ]
     },
     "execution_count": 12,
     "metadata": {},
     "output_type": "execute_result"
    }
   ],
   "source": [
    "df[\"ID do contrato\"].nunique()"
   ]
  },
  {
   "cell_type": "code",
   "execution_count": 13,
   "metadata": {},
   "outputs": [
    {
     "data": {
      "text/plain": [
       "(201592,)"
      ]
     },
     "execution_count": 13,
     "metadata": {},
     "output_type": "execute_result"
    }
   ],
   "source": [
    "df[\"ID do contrato\"].shape"
   ]
  },
  {
   "cell_type": "code",
   "execution_count": 6,
   "metadata": {},
   "outputs": [],
   "source": [
    "dfs[\"days\"].columns = ['ID do contrato', 'tipo de contrato',  'Quantidade de horas que o contrato sofreu postergação de inicio']"
   ]
  },
  {
   "cell_type": "code",
   "execution_count": 7,
   "metadata": {},
   "outputs": [
    {
     "data": {
      "text/html": [
       "<div>\n",
       "<style scoped>\n",
       "    .dataframe tbody tr th:only-of-type {\n",
       "        vertical-align: middle;\n",
       "    }\n",
       "\n",
       "    .dataframe tbody tr th {\n",
       "        vertical-align: top;\n",
       "    }\n",
       "\n",
       "    .dataframe thead th {\n",
       "        text-align: right;\n",
       "    }\n",
       "</style>\n",
       "<table border=\"1\" class=\"dataframe\">\n",
       "  <thead>\n",
       "    <tr style=\"text-align: right;\">\n",
       "      <th></th>\n",
       "      <th>ID do contrato</th>\n",
       "      <th>tipo de contrato</th>\n",
       "      <th>Quantidade de horas que o contrato sofreu postergação de inicio</th>\n",
       "    </tr>\n",
       "  </thead>\n",
       "  <tbody>\n",
       "    <tr>\n",
       "      <th>0</th>\n",
       "      <td>121780</td>\n",
       "      <td>Diária</td>\n",
       "      <td>17706960.000000000000</td>\n",
       "    </tr>\n",
       "    <tr>\n",
       "      <th>1</th>\n",
       "      <td>118827</td>\n",
       "      <td>Diária</td>\n",
       "      <td>17531640.000000000000</td>\n",
       "    </tr>\n",
       "    <tr>\n",
       "      <th>2</th>\n",
       "      <td>109447</td>\n",
       "      <td>Diária</td>\n",
       "      <td>15971352.000000000000</td>\n",
       "    </tr>\n",
       "    <tr>\n",
       "      <th>3</th>\n",
       "      <td>113517</td>\n",
       "      <td>Diária</td>\n",
       "      <td>15953808.000000000000</td>\n",
       "    </tr>\n",
       "    <tr>\n",
       "      <th>4</th>\n",
       "      <td>108490</td>\n",
       "      <td>Coleta/Entrega</td>\n",
       "      <td>35064.000000000000</td>\n",
       "    </tr>\n",
       "  </tbody>\n",
       "</table>\n",
       "</div>"
      ],
      "text/plain": [
       "   ID do contrato tipo de contrato  \\\n",
       "0          121780           Diária   \n",
       "1          118827           Diária   \n",
       "2          109447           Diária   \n",
       "3          113517           Diária   \n",
       "4          108490   Coleta/Entrega   \n",
       "\n",
       "  Quantidade de horas que o contrato sofreu postergação de inicio  \n",
       "0                              17706960.000000000000               \n",
       "1                              17531640.000000000000               \n",
       "2                              15971352.000000000000               \n",
       "3                              15953808.000000000000               \n",
       "4                                 35064.000000000000               "
      ]
     },
     "execution_count": 7,
     "metadata": {},
     "output_type": "execute_result"
    }
   ],
   "source": [
    "dfs[\"days\"].head()"
   ]
  },
  {
   "cell_type": "code",
   "execution_count": 8,
   "metadata": {},
   "outputs": [],
   "source": [
    "dfs[\"timeline\"].to_csv(\"src/data/timeline.csv\", index=False)\n",
    "dfs[\"days\"].to_csv(\"src/data/days.csv\", index=False)"
   ]
  }
 ],
 "metadata": {
  "kernelspec": {
   "display_name": ".ciclo_de_vida_venv",
   "language": "python",
   "name": "python3"
  },
  "language_info": {
   "codemirror_mode": {
    "name": "ipython",
    "version": 3
   },
   "file_extension": ".py",
   "mimetype": "text/x-python",
   "name": "python",
   "nbconvert_exporter": "python",
   "pygments_lexer": "ipython3",
   "version": "3.10.12"
  }
 },
 "nbformat": 4,
 "nbformat_minor": 2
}
