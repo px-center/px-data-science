{
 "cells": [
  {
   "cell_type": "markdown",
   "metadata": {},
   "source": [
    "### Carregamento das libs"
   ]
  },
  {
   "cell_type": "code",
   "execution_count": 1,
   "metadata": {},
   "outputs": [
    {
     "name": "stdout",
     "output_type": "stream",
     "text": [
      "Hash numérica de 5 dígitos: 94799\n"
     ]
    }
   ],
   "source": [
    "from src.libs.lib import *\n",
    "import pandas as pd\n",
    "import matplotlib.pyplot as plt\n",
    "pd.set_option('display.max_rows', None)\n",
    "pd.set_option('display.max_columns', None)"
   ]
  },
  {
   "cell_type": "code",
   "execution_count": 2,
   "metadata": {},
   "outputs": [
    {
     "name": "stdout",
     "output_type": "stream",
     "text": [
      "Conexão estabelecida com sucesso!\n"
     ]
    }
   ],
   "source": [
    "dfs = load_data_db()\n",
    "#5.5s"
   ]
  },
  {
   "cell_type": "code",
   "execution_count": 3,
   "metadata": {},
   "outputs": [
    {
     "data": {
      "text/html": [
       "<div>\n",
       "<style scoped>\n",
       "    .dataframe tbody tr th:only-of-type {\n",
       "        vertical-align: middle;\n",
       "    }\n",
       "\n",
       "    .dataframe tbody tr th {\n",
       "        vertical-align: top;\n",
       "    }\n",
       "\n",
       "    .dataframe thead th {\n",
       "        text-align: right;\n",
       "    }\n",
       "</style>\n",
       "<table border=\"1\" class=\"dataframe\">\n",
       "  <thead>\n",
       "    <tr style=\"text-align: right;\">\n",
       "      <th></th>\n",
       "      <th>mes</th>\n",
       "      <th>qtde_adiantamentos</th>\n",
       "      <th>qtde_ajudas_de_custo</th>\n",
       "      <th>qtde_reembolsos</th>\n",
       "      <th>qtde_creditos</th>\n",
       "      <th>total_transacoes_mes</th>\n",
       "    </tr>\n",
       "  </thead>\n",
       "  <tbody>\n",
       "    <tr>\n",
       "      <th>0</th>\n",
       "      <td>2024-05</td>\n",
       "      <td>12274</td>\n",
       "      <td>74</td>\n",
       "      <td>2840</td>\n",
       "      <td>608</td>\n",
       "      <td>15796</td>\n",
       "    </tr>\n",
       "    <tr>\n",
       "      <th>1</th>\n",
       "      <td>2024-06</td>\n",
       "      <td>13239</td>\n",
       "      <td>113</td>\n",
       "      <td>2322</td>\n",
       "      <td>598</td>\n",
       "      <td>16272</td>\n",
       "    </tr>\n",
       "    <tr>\n",
       "      <th>2</th>\n",
       "      <td>2024-07</td>\n",
       "      <td>15902</td>\n",
       "      <td>168</td>\n",
       "      <td>3515</td>\n",
       "      <td>758</td>\n",
       "      <td>20343</td>\n",
       "    </tr>\n",
       "    <tr>\n",
       "      <th>3</th>\n",
       "      <td>2024-08</td>\n",
       "      <td>16336</td>\n",
       "      <td>103</td>\n",
       "      <td>3385</td>\n",
       "      <td>823</td>\n",
       "      <td>20647</td>\n",
       "    </tr>\n",
       "    <tr>\n",
       "      <th>4</th>\n",
       "      <td>2024-09</td>\n",
       "      <td>17394</td>\n",
       "      <td>143</td>\n",
       "      <td>3369</td>\n",
       "      <td>906</td>\n",
       "      <td>21812</td>\n",
       "    </tr>\n",
       "  </tbody>\n",
       "</table>\n",
       "</div>"
      ],
      "text/plain": [
       "       mes  qtde_adiantamentos  qtde_ajudas_de_custo  qtde_reembolsos  \\\n",
       "0  2024-05               12274                    74             2840   \n",
       "1  2024-06               13239                   113             2322   \n",
       "2  2024-07               15902                   168             3515   \n",
       "3  2024-08               16336                   103             3385   \n",
       "4  2024-09               17394                   143             3369   \n",
       "\n",
       "   qtde_creditos  total_transacoes_mes  \n",
       "0            608                 15796  \n",
       "1            598                 16272  \n",
       "2            758                 20343  \n",
       "3            823                 20647  \n",
       "4            906                 21812  "
      ]
     },
     "metadata": {},
     "output_type": "display_data"
    }
   ],
   "source": [
    "df_orginal = dfs[\"usage_statistics_erp\"]\n",
    "display(df_orginal.head())"
   ]
  },
  {
   "cell_type": "code",
   "execution_count": 4,
   "metadata": {},
   "outputs": [],
   "source": [
    "df_orginal.to_csv(\"src/data/usage_statistics_erp.csv\")"
   ]
  }
 ],
 "metadata": {
  "kernelspec": {
   "display_name": ".erp_venv",
   "language": "python",
   "name": "python3"
  },
  "language_info": {
   "codemirror_mode": {
    "name": "ipython",
    "version": 3
   },
   "file_extension": ".py",
   "mimetype": "text/x-python",
   "name": "python",
   "nbconvert_exporter": "python",
   "pygments_lexer": "ipython3",
   "version": "3.10.12"
  }
 },
 "nbformat": 4,
 "nbformat_minor": 2
}
