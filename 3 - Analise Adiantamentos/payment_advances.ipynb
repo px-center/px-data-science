{
 "cells": [
  {
   "cell_type": "code",
   "execution_count": null,
   "metadata": {},
   "outputs": [
    {
     "name": "stdout",
     "output_type": "stream",
     "text": [
      "Conexão estabelecida com sucesso!\n"
     ]
    }
   ],
   "source": [
    "from lib import *\n",
    "import pandas as pd\n",
    "import matplotlib.pyplot as plt\n",
    "\n",
    "pd.reset_option('display.max_rows')\n",
    "pd.reset_option('display.max_columns')\n",
    "\n",
    "\n",
    "#dfs = load_data_bq()\n",
    "dfs = load_data_db()\n",
    "df = dfs[\"payment_advances\"]\n",
    "#39s"
   ]
  },
  {
   "cell_type": "code",
   "execution_count": 2,
   "metadata": {},
   "outputs": [],
   "source": [
    "df[\"value_proportion\"] = df[\"value_advance\"] / df[\"value\"]"
   ]
  },
  {
   "cell_type": "code",
   "execution_count": null,
   "metadata": {},
   "outputs": [],
   "source": [
    "df[[\"freight_id\", \"value_proportion\"]].head()"
   ]
  },
  {
   "cell_type": "code",
   "execution_count": null,
   "metadata": {},
   "outputs": [],
   "source": [
    "import pandas as pd\n",
    "import matplotlib.pyplot as plt\n",
    "\n",
    "# Considerando que o DataFrame df já está presente em dfs[\"discounts\"]\n",
    "df = dfs[\"discounts\"]\n",
    "df = df.fillna(0)\n",
    "# Calcula a proporção e arredonda para uma casa decimal\n",
    "df[\"value_proportion\"] = (df[\"value\"] - df[\"discount\"] - df[\"adiantamento\"]) / df[\"value\"].round(1)\n",
    "\n",
    "# Filtra os contratos: 50% ou superior e até 49,9%\n",
    "acima_50 = df[df['value_proportion'] >= 0.5].shape[0]\n",
    "ate_49_9 = df.shape[0] - acima_50\n",
    "\n",
    "# Dados para o gráfico de pizza\n",
    "labels = ['50% ou superior', 'Até 49,9%']\n",
    "sizes = [acima_50, ate_49_9]\n",
    "\n",
    "plt.figure(figsize=(6,6))\n",
    "plt.pie(sizes, labels=labels, autopct='%1.1f%%', startangle=90)\n",
    "plt.title('Saldo a receber')\n",
    "plt.show()\n"
   ]
  },
  {
   "cell_type": "code",
   "execution_count": null,
   "metadata": {},
   "outputs": [],
   "source": [
    "df.head()"
   ]
  },
  {
   "cell_type": "code",
   "execution_count": null,
   "metadata": {},
   "outputs": [],
   "source": [
    "import pandas as pd\n",
    "import matplotlib.pyplot as plt\n",
    "\n",
    "# Considerando que o DataFrame df já está presente em dfs[\"discounts\"]\n",
    "df = dfs[\"discounts\"].fillna(0)\n",
    "\n",
    "# Calcula a proporção de saldo a receber e arredonda para uma casa decimal\n",
    "# Proporção = (value - discount) / value\n",
    "df[\"value_proportion\"] = ((df[\"value\"] - df[\"discount\"] - df[\"adiantamento\"]) / df[\"value\"]).round(1)\n",
    "\n",
    "# Filtra os contratos com valor_proportion maior que 50%\n",
    "df = df[df[\"value_proportion\"] > 0.5]\n",
    "\n",
    "# Define os intervalos e os respectivos rótulos\n",
    "bins = [0.5, 0.6, 0.8, 1.0]\n",
    "labels = ['50% a 60%', '61% a 80%', '81% a 100%']\n",
    "\n",
    "# Cria uma nova coluna classificando cada contrato de acordo com o intervalo\n",
    "df['proportion_range'] = pd.cut(df[\"value_proportion\"], bins=bins, labels=labels, include_lowest=True, right=True)\n",
    "\n",
    "# Conta quantos contratos caem em cada intervalo\n",
    "counts = df['proportion_range'].value_counts(sort=False)\n",
    "\n",
    "# Calcula as porcentagens\n",
    "total = counts.sum()\n",
    "percentages = (counts / total * 100).round(1)\n",
    "\n",
    "# Plota o gráfico de barras com porcentagens\n",
    "plt.figure(figsize=(8,6))\n",
    "bars = plt.bar(counts.index.astype(str), percentages.values, color='skyblue', edgecolor='black')\n",
    "\n",
    "plt.xlabel('Faixa de Proporção')\n",
    "plt.ylabel('Porcentagem (%)')\n",
    "plt.title('Saldo a Receber por Faixa de Proporção (%)')\n",
    "\n",
    "# Adiciona os valores percentuais acima de cada barra\n",
    "for bar, pct in zip(bars, percentages.values):\n",
    "    height = bar.get_height()\n",
    "    plt.annotate(f'{pct}%',\n",
    "                 xy=(bar.get_x() + bar.get_width()/2, height),\n",
    "                 xytext=(0,3),  # 3 pontos de deslocamento vertical\n",
    "                 textcoords=\"offset points\",\n",
    "                 ha='center', va='bottom')\n",
    "\n",
    "plt.ylim(0, percentages.max() * 1.2)\n",
    "plt.grid(axis='y', linestyle='--', alpha=0.7)\n",
    "plt.tight_layout()\n",
    "plt.show()\n"
   ]
  },
  {
   "cell_type": "code",
   "execution_count": null,
   "metadata": {},
   "outputs": [],
   "source": []
  }
 ],
 "metadata": {
  "kernelspec": {
   "display_name": "analise_adiantamentos_venv",
   "language": "python",
   "name": "python3"
  },
  "language_info": {
   "codemirror_mode": {
    "name": "ipython",
    "version": 3
   },
   "file_extension": ".py",
   "mimetype": "text/x-python",
   "name": "python",
   "nbconvert_exporter": "python",
   "pygments_lexer": "ipython3",
   "version": "3.10.12"
  }
 },
 "nbformat": 4,
 "nbformat_minor": 2
}
