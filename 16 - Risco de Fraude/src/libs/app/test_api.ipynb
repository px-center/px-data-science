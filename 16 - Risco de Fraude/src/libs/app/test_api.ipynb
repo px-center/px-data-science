{
 "cells": [
  {
   "cell_type": "code",
   "execution_count": 1,
   "id": "35d1d56e",
   "metadata": {},
   "outputs": [
    {
     "name": "stdout",
     "output_type": "stream",
     "text": [
      "Hash numérica de 5 dígitos: 94799\n",
      "./\n"
     ]
    },
    {
     "name": "stderr",
     "output_type": "stream",
     "text": [
      "/media/tschmitz/hope-keeper/2025_github/px-data-science/16 - Risco de Fraude/src/libs/app/.fraude_env/lib/python3.10/site-packages/google/cloud/bigquery/table.py:1933: UserWarning: BigQuery Storage module not found, fetch data with the REST endpoint instead.\n",
      "  warnings.warn(\n"
     ]
    },
    {
     "name": "stdout",
     "output_type": "stream",
     "text": [
      "Query reembolsos.bq executada com sucesso.\n",
      "Queries executadas com sucesso, DataFrames disponíveis na lista `dfs`.\n"
     ]
    },
    {
     "name": "stderr",
     "output_type": "stream",
     "text": [
      "/media/tschmitz/hope-keeper/2025_github/px-data-science/16 - Risco de Fraude/src/libs/app/adicionar_regras_reembolso.py:168: FutureWarning: Downcasting object dtype arrays on .fillna, .ffill, .bfill is deprecated and will change in a future version. Call result.infer_objects(copy=False) instead. To opt-in to the future behavior, set `pd.set_option('future.no_silent_downcasting', True)`\n",
      "  df[regra_cols] = df[regra_cols].fillna(False)\n",
      "/media/tschmitz/hope-keeper/2025_github/px-data-science/16 - Risco de Fraude/src/libs/app/.fraude_env/lib/python3.10/site-packages/google/cloud/bigquery/_pandas_helpers.py:489: FutureWarning: Loading pandas DataFrame into BigQuery will require pandas-gbq package version 0.26.1 or greater in the future. Tried to import pandas-gbq and got: No module named 'pandas_gbq'\n",
      "  warnings.warn(\n"
     ]
    },
    {
     "name": "stdout",
     "output_type": "stream",
     "text": [
      "Dados inseridos com sucesso na tabela: formal-purpose-354320.datascience.76178_risco_fraude_reembolso\n",
      "Processamento concluído e dados inseridos na tabela: 76178_risco_fraude_reembolso\n"
     ]
    },
    {
     "data": {
      "text/plain": [
       "0"
      ]
     },
     "execution_count": 1,
     "metadata": {},
     "output_type": "execute_result"
    }
   ],
   "source": [
    "from main import *\n",
    "\n",
    "hello_http({})"
   ]
  }
 ],
 "metadata": {
  "kernelspec": {
   "display_name": ".fraude_env",
   "language": "python",
   "name": "python3"
  },
  "language_info": {
   "codemirror_mode": {
    "name": "ipython",
    "version": 3
   },
   "file_extension": ".py",
   "mimetype": "text/x-python",
   "name": "python",
   "nbconvert_exporter": "python",
   "pygments_lexer": "ipython3",
   "version": "3.10.12"
  }
 },
 "nbformat": 4,
 "nbformat_minor": 5
}
