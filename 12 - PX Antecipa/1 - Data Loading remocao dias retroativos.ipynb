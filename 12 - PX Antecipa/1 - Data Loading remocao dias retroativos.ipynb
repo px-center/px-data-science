{
 "cells": [
  {
   "cell_type": "markdown",
   "metadata": {},
   "source": [
    "### Carregamento das libs"
   ]
  },
  {
   "cell_type": "code",
   "execution_count": 1,
   "metadata": {},
   "outputs": [
    {
     "name": "stdout",
     "output_type": "stream",
     "text": [
      "Hash numérica de 5 dígitos: 94799\n"
     ]
    }
   ],
   "source": [
    "from src.libs.lib import *\n",
    "import pandas as pd\n",
    "import matplotlib.pyplot as plt\n",
    "# pd.set_option('display.max_rows', None)\n",
    "# pd.set_option('display.max_columns', None)"
   ]
  },
  {
   "cell_type": "markdown",
   "metadata": {},
   "source": [
    "# df_original"
   ]
  },
  {
   "cell_type": "code",
   "execution_count": 2,
   "metadata": {},
   "outputs": [
    {
     "data": {
      "text/html": [
       "<div>\n",
       "<style scoped>\n",
       "    .dataframe tbody tr th:only-of-type {\n",
       "        vertical-align: middle;\n",
       "    }\n",
       "\n",
       "    .dataframe tbody tr th {\n",
       "        vertical-align: top;\n",
       "    }\n",
       "\n",
       "    .dataframe thead th {\n",
       "        text-align: right;\n",
       "    }\n",
       "</style>\n",
       "<table border=\"1\" class=\"dataframe\">\n",
       "  <thead>\n",
       "    <tr style=\"text-align: right;\">\n",
       "      <th></th>\n",
       "      <th>created_at</th>\n",
       "      <th>freight_id</th>\n",
       "      <th>driver_id</th>\n",
       "      <th>tipo</th>\n",
       "      <th>dias_reducao</th>\n",
       "      <th>nivel_px</th>\n",
       "    </tr>\n",
       "  </thead>\n",
       "  <tbody>\n",
       "    <tr>\n",
       "      <th>0</th>\n",
       "      <td>2025-04-13 11:30:28.000</td>\n",
       "      <td>157847</td>\n",
       "      <td>317998</td>\n",
       "      <td>Diária</td>\n",
       "      <td>1.0</td>\n",
       "      <td>Ouro</td>\n",
       "    </tr>\n",
       "    <tr>\n",
       "      <th>1</th>\n",
       "      <td>2025-04-12 11:46:22.000</td>\n",
       "      <td>157728</td>\n",
       "      <td>221202</td>\n",
       "      <td>Diária</td>\n",
       "      <td>1.0</td>\n",
       "      <td>Ouro</td>\n",
       "    </tr>\n",
       "    <tr>\n",
       "      <th>2</th>\n",
       "      <td>2025-04-11 10:06:48.000</td>\n",
       "      <td>157297</td>\n",
       "      <td>2597</td>\n",
       "      <td>Diária</td>\n",
       "      <td>8.0</td>\n",
       "      <td>Diamante</td>\n",
       "    </tr>\n",
       "    <tr>\n",
       "      <th>3</th>\n",
       "      <td>2025-04-11 08:40:21.000</td>\n",
       "      <td>157242</td>\n",
       "      <td>21660</td>\n",
       "      <td>Coleta/Entrega</td>\n",
       "      <td>1.0</td>\n",
       "      <td>Ouro</td>\n",
       "    </tr>\n",
       "    <tr>\n",
       "      <th>4</th>\n",
       "      <td>2025-04-10 19:48:59.000</td>\n",
       "      <td>157178</td>\n",
       "      <td>218039</td>\n",
       "      <td>Coleta/Entrega</td>\n",
       "      <td>1.0</td>\n",
       "      <td>Ouro</td>\n",
       "    </tr>\n",
       "  </tbody>\n",
       "</table>\n",
       "</div>"
      ],
      "text/plain": [
       "                created_at  freight_id  driver_id            tipo  \\\n",
       "0  2025-04-13 11:30:28.000      157847     317998          Diária   \n",
       "1  2025-04-12 11:46:22.000      157728     221202          Diária   \n",
       "2  2025-04-11 10:06:48.000      157297       2597          Diária   \n",
       "3  2025-04-11 08:40:21.000      157242      21660  Coleta/Entrega   \n",
       "4  2025-04-10 19:48:59.000      157178     218039  Coleta/Entrega   \n",
       "\n",
       "   dias_reducao  nivel_px  \n",
       "0           1.0      Ouro  \n",
       "1           1.0      Ouro  \n",
       "2           8.0  Diamante  \n",
       "3           1.0      Ouro  \n",
       "4           1.0      Ouro  "
      ]
     },
     "execution_count": 2,
     "metadata": {},
     "output_type": "execute_result"
    }
   ],
   "source": [
    "df_original = pd.read_csv(\"src/data/remocao_dias_retroativos.csv\")\n",
    "df_original = df_original.loc[:, ~df_original.columns.str.contains('^Unnamed')] \n",
    "df_original = df_original.dropna()\n",
    "df_original.head()"
   ]
  },
  {
   "cell_type": "code",
   "execution_count": 3,
   "metadata": {},
   "outputs": [
    {
     "data": {
      "text/html": [
       "<div>\n",
       "<style scoped>\n",
       "    .dataframe tbody tr th:only-of-type {\n",
       "        vertical-align: middle;\n",
       "    }\n",
       "\n",
       "    .dataframe tbody tr th {\n",
       "        vertical-align: top;\n",
       "    }\n",
       "\n",
       "    .dataframe thead th {\n",
       "        text-align: right;\n",
       "    }\n",
       "</style>\n",
       "<table border=\"1\" class=\"dataframe\">\n",
       "  <thead>\n",
       "    <tr style=\"text-align: right;\">\n",
       "      <th></th>\n",
       "      <th>freight_id</th>\n",
       "      <th>driver_id</th>\n",
       "      <th>tipo</th>\n",
       "      <th>dias_reducao</th>\n",
       "      <th>nivel_px</th>\n",
       "      <th>ano_mes</th>\n",
       "    </tr>\n",
       "  </thead>\n",
       "  <tbody>\n",
       "    <tr>\n",
       "      <th>0</th>\n",
       "      <td>157847</td>\n",
       "      <td>317998</td>\n",
       "      <td>Diária</td>\n",
       "      <td>1.0</td>\n",
       "      <td>Ouro</td>\n",
       "      <td>2025-04-01</td>\n",
       "    </tr>\n",
       "    <tr>\n",
       "      <th>1</th>\n",
       "      <td>157728</td>\n",
       "      <td>221202</td>\n",
       "      <td>Diária</td>\n",
       "      <td>1.0</td>\n",
       "      <td>Ouro</td>\n",
       "      <td>2025-04-01</td>\n",
       "    </tr>\n",
       "    <tr>\n",
       "      <th>2</th>\n",
       "      <td>157297</td>\n",
       "      <td>2597</td>\n",
       "      <td>Diária</td>\n",
       "      <td>8.0</td>\n",
       "      <td>Diamante</td>\n",
       "      <td>2025-04-01</td>\n",
       "    </tr>\n",
       "    <tr>\n",
       "      <th>3</th>\n",
       "      <td>157242</td>\n",
       "      <td>21660</td>\n",
       "      <td>Coleta/Entrega</td>\n",
       "      <td>1.0</td>\n",
       "      <td>Ouro</td>\n",
       "      <td>2025-04-01</td>\n",
       "    </tr>\n",
       "    <tr>\n",
       "      <th>4</th>\n",
       "      <td>157178</td>\n",
       "      <td>218039</td>\n",
       "      <td>Coleta/Entrega</td>\n",
       "      <td>1.0</td>\n",
       "      <td>Ouro</td>\n",
       "      <td>2025-04-01</td>\n",
       "    </tr>\n",
       "  </tbody>\n",
       "</table>\n",
       "</div>"
      ],
      "text/plain": [
       "   freight_id  driver_id            tipo  dias_reducao  nivel_px    ano_mes\n",
       "0      157847     317998          Diária           1.0      Ouro 2025-04-01\n",
       "1      157728     221202          Diária           1.0      Ouro 2025-04-01\n",
       "2      157297       2597          Diária           8.0  Diamante 2025-04-01\n",
       "3      157242      21660  Coleta/Entrega           1.0      Ouro 2025-04-01\n",
       "4      157178     218039  Coleta/Entrega           1.0      Ouro 2025-04-01"
      ]
     },
     "execution_count": 3,
     "metadata": {},
     "output_type": "execute_result"
    }
   ],
   "source": [
    "df_original['created_at'] = pd.to_datetime(df_original['created_at'])\n",
    "\n",
    "df_original['ano_mes'] = df_original['created_at'].dt.to_period('M').dt.to_timestamp()\n",
    "\n",
    "df_original = df_original.drop(columns=['created_at'])\n",
    "\n",
    "df_original.head()"
   ]
  },
  {
   "cell_type": "code",
   "execution_count": 4,
   "metadata": {},
   "outputs": [
    {
     "data": {
      "text/plain": [
       "<Axes: >"
      ]
     },
     "execution_count": 4,
     "metadata": {},
     "output_type": "execute_result"
    },
    {
     "data": {
      "image/png": "[encoded data removed]",
      "text/plain": [
       "<Figure size 640x480 with 1 Axes>"
      ]
     },
     "metadata": {},
     "output_type": "display_data"
    }
   ],
   "source": [
    "df_original.dias_reducao.hist()"
   ]
  },
  {
   "cell_type": "code",
   "execution_count": 5,
   "metadata": {},
   "outputs": [
    {
     "data": {
      "text/plain": [
       "count    2169.000000\n",
       "mean        4.365376\n",
       "std         5.338504\n",
       "min         0.500000\n",
       "25%         1.000000\n",
       "50%         2.000000\n",
       "75%         5.000000\n",
       "max        35.000000\n",
       "Name: dias_reducao, dtype: float64"
      ]
     },
     "execution_count": 5,
     "metadata": {},
     "output_type": "execute_result"
    }
   ],
   "source": [
    "df_original.dias_reducao.describe()"
   ]
  },
  {
   "cell_type": "code",
   "execution_count": 6,
   "metadata": {},
   "outputs": [
    {
     "data": {
      "text/plain": [
       "ano_mes\n",
       "2025-01-01    455\n",
       "2025-03-01    402\n",
       "2025-02-01    400\n",
       "2024-12-01    378\n",
       "2024-11-01    378\n",
       "2024-10-01     92\n",
       "2025-04-01     55\n",
       "2024-09-01      9\n",
       "Name: count, dtype: int64"
      ]
     },
     "execution_count": 6,
     "metadata": {},
     "output_type": "execute_result"
    }
   ],
   "source": [
    "df_original.ano_mes.value_counts()"
   ]
  },
  {
   "cell_type": "code",
   "execution_count": 7,
   "metadata": {},
   "outputs": [
    {
     "data": {
      "text/plain": [
       "tipo\n",
       "Diária            1785\n",
       "Coleta/Entrega     374\n",
       "Ajudante            10\n",
       "Name: count, dtype: int64"
      ]
     },
     "execution_count": 7,
     "metadata": {},
     "output_type": "execute_result"
    }
   ],
   "source": [
    "df_original.tipo.value_counts()"
   ]
  },
  {
   "cell_type": "code",
   "execution_count": 8,
   "metadata": {},
   "outputs": [
    {
     "data": {
      "text/plain": [
       "nivel_px\n",
       "Ouro        983\n",
       "Diamante    661\n",
       "Prata       423\n",
       "Bronze      102\n",
       "Name: count, dtype: int64"
      ]
     },
     "execution_count": 8,
     "metadata": {},
     "output_type": "execute_result"
    }
   ],
   "source": [
    "df_original.nivel_px.value_counts()"
   ]
  },
  {
   "cell_type": "code",
   "execution_count": 9,
   "metadata": {},
   "outputs": [
    {
     "data": {
      "text/plain": [
       "count    2169.000000\n",
       "mean        4.365376\n",
       "std         5.338504\n",
       "min         0.500000\n",
       "25%         1.000000\n",
       "50%         2.000000\n",
       "75%         5.000000\n",
       "max        35.000000\n",
       "Name: dias_reducao, dtype: float64"
      ]
     },
     "execution_count": 9,
     "metadata": {},
     "output_type": "execute_result"
    }
   ],
   "source": [
    "df_original.dias_reducao.describe()"
   ]
  },
  {
   "cell_type": "code",
   "execution_count": 10,
   "metadata": {},
   "outputs": [],
   "source": [
    "df_original = df_original[['ano_mes', 'freight_id','tipo', 'nivel_px', 'dias_reducao']]\n",
    "df_original = df_original.loc[df_original.ano_mes != '2025-04-01']\n",
    "df_original = df_original.loc[df_original.ano_mes != '2024-10-01']\n",
    "df_original = df_original.loc[df_original.ano_mes != '2024-09-01']"
   ]
  },
  {
   "cell_type": "code",
   "execution_count": 11,
   "metadata": {},
   "outputs": [],
   "source": [
    "df_original.to_csv(\"src/data/df_original.csv\")"
   ]
  },
  {
   "cell_type": "code",
   "execution_count": 12,
   "metadata": {},
   "outputs": [
    {
     "data": {
      "text/html": [
       "<div>\n",
       "<style scoped>\n",
       "    .dataframe tbody tr th:only-of-type {\n",
       "        vertical-align: middle;\n",
       "    }\n",
       "\n",
       "    .dataframe tbody tr th {\n",
       "        vertical-align: top;\n",
       "    }\n",
       "\n",
       "    .dataframe thead th {\n",
       "        text-align: right;\n",
       "    }\n",
       "</style>\n",
       "<table border=\"1\" class=\"dataframe\">\n",
       "  <thead>\n",
       "    <tr style=\"text-align: right;\">\n",
       "      <th></th>\n",
       "      <th>ano_mes</th>\n",
       "      <th>freight_id</th>\n",
       "      <th>tipo</th>\n",
       "      <th>nivel_px</th>\n",
       "      <th>dias_reducao</th>\n",
       "    </tr>\n",
       "  </thead>\n",
       "  <tbody>\n",
       "    <tr>\n",
       "      <th>73</th>\n",
       "      <td>2025-03-01</td>\n",
       "      <td>154390</td>\n",
       "      <td>Diária</td>\n",
       "      <td>Prata</td>\n",
       "      <td>1.0</td>\n",
       "    </tr>\n",
       "    <tr>\n",
       "      <th>74</th>\n",
       "      <td>2025-03-01</td>\n",
       "      <td>154389</td>\n",
       "      <td>Diária</td>\n",
       "      <td>Prata</td>\n",
       "      <td>1.0</td>\n",
       "    </tr>\n",
       "    <tr>\n",
       "      <th>75</th>\n",
       "      <td>2025-03-01</td>\n",
       "      <td>154339</td>\n",
       "      <td>Diária</td>\n",
       "      <td>Prata</td>\n",
       "      <td>2.0</td>\n",
       "    </tr>\n",
       "    <tr>\n",
       "      <th>76</th>\n",
       "      <td>2025-03-01</td>\n",
       "      <td>154324</td>\n",
       "      <td>Coleta/Entrega</td>\n",
       "      <td>Bronze</td>\n",
       "      <td>1.0</td>\n",
       "    </tr>\n",
       "    <tr>\n",
       "      <th>77</th>\n",
       "      <td>2025-03-01</td>\n",
       "      <td>154314</td>\n",
       "      <td>Diária</td>\n",
       "      <td>Diamante</td>\n",
       "      <td>2.0</td>\n",
       "    </tr>\n",
       "  </tbody>\n",
       "</table>\n",
       "</div>"
      ],
      "text/plain": [
       "      ano_mes  freight_id            tipo  nivel_px  dias_reducao\n",
       "73 2025-03-01      154390          Diária     Prata           1.0\n",
       "74 2025-03-01      154389          Diária     Prata           1.0\n",
       "75 2025-03-01      154339          Diária     Prata           2.0\n",
       "76 2025-03-01      154324  Coleta/Entrega    Bronze           1.0\n",
       "77 2025-03-01      154314          Diária  Diamante           2.0"
      ]
     },
     "execution_count": 12,
     "metadata": {},
     "output_type": "execute_result"
    }
   ],
   "source": [
    "df_original.head()"
   ]
  },
  {
   "cell_type": "code",
   "execution_count": null,
   "metadata": {},
   "outputs": [],
   "source": []
  },
  {
   "cell_type": "markdown",
   "metadata": {},
   "source": [
    "# df_all"
   ]
  },
  {
   "cell_type": "code",
   "execution_count": 13,
   "metadata": {},
   "outputs": [
    {
     "data": {
      "text/html": [
       "<div>\n",
       "<style scoped>\n",
       "    .dataframe tbody tr th:only-of-type {\n",
       "        vertical-align: middle;\n",
       "    }\n",
       "\n",
       "    .dataframe tbody tr th {\n",
       "        vertical-align: top;\n",
       "    }\n",
       "\n",
       "    .dataframe thead th {\n",
       "        text-align: right;\n",
       "    }\n",
       "</style>\n",
       "<table border=\"1\" class=\"dataframe\">\n",
       "  <thead>\n",
       "    <tr style=\"text-align: right;\">\n",
       "      <th></th>\n",
       "      <th>ano_mes</th>\n",
       "      <th>freight_id</th>\n",
       "      <th>tipo</th>\n",
       "      <th>nivel_px</th>\n",
       "      <th>dias_reducao</th>\n",
       "      <th>houve_reducao</th>\n",
       "    </tr>\n",
       "  </thead>\n",
       "  <tbody>\n",
       "    <tr>\n",
       "      <th>73</th>\n",
       "      <td>2025-03-01</td>\n",
       "      <td>154390</td>\n",
       "      <td>Diária</td>\n",
       "      <td>Prata</td>\n",
       "      <td>1.0</td>\n",
       "      <td>sim</td>\n",
       "    </tr>\n",
       "    <tr>\n",
       "      <th>74</th>\n",
       "      <td>2025-03-01</td>\n",
       "      <td>154389</td>\n",
       "      <td>Diária</td>\n",
       "      <td>Prata</td>\n",
       "      <td>1.0</td>\n",
       "      <td>sim</td>\n",
       "    </tr>\n",
       "    <tr>\n",
       "      <th>75</th>\n",
       "      <td>2025-03-01</td>\n",
       "      <td>154339</td>\n",
       "      <td>Diária</td>\n",
       "      <td>Prata</td>\n",
       "      <td>2.0</td>\n",
       "      <td>sim</td>\n",
       "    </tr>\n",
       "    <tr>\n",
       "      <th>76</th>\n",
       "      <td>2025-03-01</td>\n",
       "      <td>154324</td>\n",
       "      <td>Coleta/Entrega</td>\n",
       "      <td>Bronze</td>\n",
       "      <td>1.0</td>\n",
       "      <td>sim</td>\n",
       "    </tr>\n",
       "    <tr>\n",
       "      <th>77</th>\n",
       "      <td>2025-03-01</td>\n",
       "      <td>154314</td>\n",
       "      <td>Diária</td>\n",
       "      <td>Diamante</td>\n",
       "      <td>2.0</td>\n",
       "      <td>sim</td>\n",
       "    </tr>\n",
       "  </tbody>\n",
       "</table>\n",
       "</div>"
      ],
      "text/plain": [
       "      ano_mes  freight_id            tipo  nivel_px  dias_reducao  \\\n",
       "73 2025-03-01      154390          Diária     Prata           1.0   \n",
       "74 2025-03-01      154389          Diária     Prata           1.0   \n",
       "75 2025-03-01      154339          Diária     Prata           2.0   \n",
       "76 2025-03-01      154324  Coleta/Entrega    Bronze           1.0   \n",
       "77 2025-03-01      154314          Diária  Diamante           2.0   \n",
       "\n",
       "   houve_reducao  \n",
       "73           sim  \n",
       "74           sim  \n",
       "75           sim  \n",
       "76           sim  \n",
       "77           sim  "
      ]
     },
     "execution_count": 13,
     "metadata": {},
     "output_type": "execute_result"
    }
   ],
   "source": [
    "df_houve_reducao = df_original.copy()\n",
    "df_houve_reducao['houve_reducao'] = 'sim'\n",
    "df_houve_reducao.head()"
   ]
  },
  {
   "cell_type": "code",
   "execution_count": 14,
   "metadata": {},
   "outputs": [
    {
     "data": {
      "text/html": [
       "<div>\n",
       "<style scoped>\n",
       "    .dataframe tbody tr th:only-of-type {\n",
       "        vertical-align: middle;\n",
       "    }\n",
       "\n",
       "    .dataframe tbody tr th {\n",
       "        vertical-align: top;\n",
       "    }\n",
       "\n",
       "    .dataframe thead th {\n",
       "        text-align: right;\n",
       "    }\n",
       "</style>\n",
       "<table border=\"1\" class=\"dataframe\">\n",
       "  <thead>\n",
       "    <tr style=\"text-align: right;\">\n",
       "      <th></th>\n",
       "      <th>freight_id</th>\n",
       "      <th>driver_id</th>\n",
       "      <th>tipo</th>\n",
       "      <th>nivel_px</th>\n",
       "      <th>ano_mes</th>\n",
       "    </tr>\n",
       "  </thead>\n",
       "  <tbody>\n",
       "    <tr>\n",
       "      <th>1</th>\n",
       "      <td>23068</td>\n",
       "      <td>29889</td>\n",
       "      <td>Diária</td>\n",
       "      <td>Ouro</td>\n",
       "      <td>2023-05-01</td>\n",
       "    </tr>\n",
       "    <tr>\n",
       "      <th>2</th>\n",
       "      <td>11319</td>\n",
       "      <td>26879</td>\n",
       "      <td>Diária</td>\n",
       "      <td>Diamante</td>\n",
       "      <td>2022-11-01</td>\n",
       "    </tr>\n",
       "    <tr>\n",
       "      <th>3</th>\n",
       "      <td>11320</td>\n",
       "      <td>12224</td>\n",
       "      <td>Diária</td>\n",
       "      <td>Ouro</td>\n",
       "      <td>2022-11-01</td>\n",
       "    </tr>\n",
       "    <tr>\n",
       "      <th>4</th>\n",
       "      <td>8436</td>\n",
       "      <td>18608</td>\n",
       "      <td>Diária</td>\n",
       "      <td>Ouro</td>\n",
       "      <td>2022-09-01</td>\n",
       "    </tr>\n",
       "    <tr>\n",
       "      <th>5</th>\n",
       "      <td>11321</td>\n",
       "      <td>12623</td>\n",
       "      <td>Diária</td>\n",
       "      <td>Ouro</td>\n",
       "      <td>2022-11-01</td>\n",
       "    </tr>\n",
       "  </tbody>\n",
       "</table>\n",
       "</div>"
      ],
      "text/plain": [
       "   freight_id  driver_id    tipo  nivel_px    ano_mes\n",
       "1       23068      29889  Diária      Ouro 2023-05-01\n",
       "2       11319      26879  Diária  Diamante 2022-11-01\n",
       "3       11320      12224  Diária      Ouro 2022-11-01\n",
       "4        8436      18608  Diária      Ouro 2022-09-01\n",
       "5       11321      12623  Diária      Ouro 2022-11-01"
      ]
     },
     "execution_count": 14,
     "metadata": {},
     "output_type": "execute_result"
    }
   ],
   "source": [
    "df_all = pd.read_csv(\"src/data/all_contracts.csv\")\n",
    "df_all = df_all.loc[:, ~df_all.columns.str.contains('^Unnamed')] \n",
    "df_all = df_all.dropna()\n",
    "\n",
    "df_all['created_at'] = pd.to_datetime(df_all['created_at'])\n",
    "\n",
    "df_all['ano_mes'] = df_all['created_at'].dt.to_period('M').dt.to_timestamp()\n",
    "\n",
    "df_all = df_all.drop(columns=['created_at'])\n",
    "\n",
    "df_all.head()"
   ]
  },
  {
   "cell_type": "code",
   "execution_count": 16,
   "metadata": {},
   "outputs": [
    {
     "data": {
      "text/html": [
       "<div>\n",
       "<style scoped>\n",
       "    .dataframe tbody tr th:only-of-type {\n",
       "        vertical-align: middle;\n",
       "    }\n",
       "\n",
       "    .dataframe tbody tr th {\n",
       "        vertical-align: top;\n",
       "    }\n",
       "\n",
       "    .dataframe thead th {\n",
       "        text-align: right;\n",
       "    }\n",
       "</style>\n",
       "<table border=\"1\" class=\"dataframe\">\n",
       "  <thead>\n",
       "    <tr style=\"text-align: right;\">\n",
       "      <th></th>\n",
       "      <th>ano_mes</th>\n",
       "      <th>tipo</th>\n",
       "      <th>nivel_px</th>\n",
       "      <th>houve_reducao</th>\n",
       "    </tr>\n",
       "  </thead>\n",
       "  <tbody>\n",
       "    <tr>\n",
       "      <th>0</th>\n",
       "      <td>2023-05-01</td>\n",
       "      <td>Diária</td>\n",
       "      <td>Ouro</td>\n",
       "      <td>nao</td>\n",
       "    </tr>\n",
       "    <tr>\n",
       "      <th>1</th>\n",
       "      <td>2022-11-01</td>\n",
       "      <td>Diária</td>\n",
       "      <td>Diamante</td>\n",
       "      <td>nao</td>\n",
       "    </tr>\n",
       "    <tr>\n",
       "      <th>2</th>\n",
       "      <td>2022-11-01</td>\n",
       "      <td>Diária</td>\n",
       "      <td>Ouro</td>\n",
       "      <td>nao</td>\n",
       "    </tr>\n",
       "    <tr>\n",
       "      <th>3</th>\n",
       "      <td>2022-09-01</td>\n",
       "      <td>Diária</td>\n",
       "      <td>Ouro</td>\n",
       "      <td>nao</td>\n",
       "    </tr>\n",
       "    <tr>\n",
       "      <th>4</th>\n",
       "      <td>2022-11-01</td>\n",
       "      <td>Diária</td>\n",
       "      <td>Ouro</td>\n",
       "      <td>nao</td>\n",
       "    </tr>\n",
       "    <tr>\n",
       "      <th>...</th>\n",
       "      <td>...</td>\n",
       "      <td>...</td>\n",
       "      <td>...</td>\n",
       "      <td>...</td>\n",
       "    </tr>\n",
       "    <tr>\n",
       "      <th>104126</th>\n",
       "      <td>2025-04-01</td>\n",
       "      <td>Coleta/Entrega</td>\n",
       "      <td>Ouro</td>\n",
       "      <td>nao</td>\n",
       "    </tr>\n",
       "    <tr>\n",
       "      <th>104127</th>\n",
       "      <td>2025-04-01</td>\n",
       "      <td>Coleta/Entrega</td>\n",
       "      <td>Diamante</td>\n",
       "      <td>nao</td>\n",
       "    </tr>\n",
       "    <tr>\n",
       "      <th>104128</th>\n",
       "      <td>2025-04-01</td>\n",
       "      <td>Coleta/Entrega</td>\n",
       "      <td>Bronze</td>\n",
       "      <td>nao</td>\n",
       "    </tr>\n",
       "    <tr>\n",
       "      <th>104129</th>\n",
       "      <td>2025-04-01</td>\n",
       "      <td>Coleta/Entrega</td>\n",
       "      <td>Diamante</td>\n",
       "      <td>nao</td>\n",
       "    </tr>\n",
       "    <tr>\n",
       "      <th>104130</th>\n",
       "      <td>2025-04-01</td>\n",
       "      <td>Diária</td>\n",
       "      <td>Prata</td>\n",
       "      <td>nao</td>\n",
       "    </tr>\n",
       "  </tbody>\n",
       "</table>\n",
       "<p>104131 rows × 4 columns</p>\n",
       "</div>"
      ],
      "text/plain": [
       "          ano_mes            tipo  nivel_px houve_reducao\n",
       "0      2023-05-01          Diária      Ouro           nao\n",
       "1      2022-11-01          Diária  Diamante           nao\n",
       "2      2022-11-01          Diária      Ouro           nao\n",
       "3      2022-09-01          Diária      Ouro           nao\n",
       "4      2022-11-01          Diária      Ouro           nao\n",
       "...           ...             ...       ...           ...\n",
       "104126 2025-04-01  Coleta/Entrega      Ouro           nao\n",
       "104127 2025-04-01  Coleta/Entrega  Diamante           nao\n",
       "104128 2025-04-01  Coleta/Entrega    Bronze           nao\n",
       "104129 2025-04-01  Coleta/Entrega  Diamante           nao\n",
       "104130 2025-04-01          Diária     Prata           nao\n",
       "\n",
       "[104131 rows x 4 columns]"
      ]
     },
     "execution_count": 16,
     "metadata": {},
     "output_type": "execute_result"
    }
   ],
   "source": [
    "# Merge usando left join pelas colunas especificadas\n",
    "df_comparativo = df_all.merge(\n",
    "    df_houve_reducao,\n",
    "    how='left',\n",
    "    on=['ano_mes', 'freight_id', 'tipo', 'nivel_px']\n",
    ")\n",
    "\n",
    "# Remover a coluna driver_id, se existir\n",
    "if 'driver_id' in df_comparativo.columns:\n",
    "    df_comparativo = df_comparativo.drop(columns=['driver_id'])\n",
    "\n",
    "# Preencher valores nulos na coluna houve_reducao com 'nao'\n",
    "df_comparativo['houve_reducao'] = df_comparativo['houve_reducao'].fillna('nao')\n",
    "\n",
    "df_comparativo = df_comparativo[['ano_mes', 'tipo', 'nivel_px', 'houve_reducao']]\n",
    "df_comparativo"
   ]
  },
  {
   "cell_type": "code",
   "execution_count": null,
   "metadata": {},
   "outputs": [],
   "source": []
  }
 ],
 "metadata": {
  "kernelspec": {
   "display_name": ".modelo_python_notebook_venv",
   "language": "python",
   "name": "python3"
  },
  "language_info": {
   "codemirror_mode": {
    "name": "ipython",
    "version": 3
   },
   "file_extension": ".py",
   "mimetype": "text/x-python",
   "name": "python",
   "nbconvert_exporter": "python",
   "pygments_lexer": "ipython3",
   "version": "3.12.3"
  }
 },
 "nbformat": 4,
 "nbformat_minor": 2
}
