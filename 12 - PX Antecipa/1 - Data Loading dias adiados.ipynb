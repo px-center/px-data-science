{
 "cells": [
  {
   "cell_type": "markdown",
   "metadata": {},
   "source": [
    "### Carregamento das libs"
   ]
  },
  {
   "cell_type": "code",
   "execution_count": 1,
   "metadata": {},
   "outputs": [
    {
     "name": "stdout",
     "output_type": "stream",
     "text": [
      "Hash numérica de 5 dígitos: 94799\n"
     ]
    }
   ],
   "source": [
    "from src.libs.lib import *\n",
    "import pandas as pd\n",
    "import matplotlib.pyplot as plt\n",
    "# pd.set_option('display.max_rows', None)\n",
    "# pd.set_option('display.max_columns', None)"
   ]
  },
  {
   "cell_type": "markdown",
   "metadata": {},
   "source": [
    "# all_contracts"
   ]
  },
  {
   "cell_type": "code",
   "execution_count": 2,
   "metadata": {},
   "outputs": [
    {
     "data": {
      "text/html": [
       "<div>\n",
       "<style scoped>\n",
       "    .dataframe tbody tr th:only-of-type {\n",
       "        vertical-align: middle;\n",
       "    }\n",
       "\n",
       "    .dataframe tbody tr th {\n",
       "        vertical-align: top;\n",
       "    }\n",
       "\n",
       "    .dataframe thead th {\n",
       "        text-align: right;\n",
       "    }\n",
       "</style>\n",
       "<table border=\"1\" class=\"dataframe\">\n",
       "  <thead>\n",
       "    <tr style=\"text-align: right;\">\n",
       "      <th></th>\n",
       "      <th>created_at</th>\n",
       "      <th>freight_id</th>\n",
       "      <th>driver_id</th>\n",
       "      <th>tipo</th>\n",
       "      <th>nivel_px</th>\n",
       "    </tr>\n",
       "  </thead>\n",
       "  <tbody>\n",
       "    <tr>\n",
       "      <th>0</th>\n",
       "      <td>2023-04-28 15:50:15.000</td>\n",
       "      <td>22059</td>\n",
       "      <td>64674</td>\n",
       "      <td>Ajudante</td>\n",
       "      <td>NaN</td>\n",
       "    </tr>\n",
       "    <tr>\n",
       "      <th>1</th>\n",
       "      <td>2023-05-10 14:20:02.000</td>\n",
       "      <td>23068</td>\n",
       "      <td>29889</td>\n",
       "      <td>Diária</td>\n",
       "      <td>Ouro</td>\n",
       "    </tr>\n",
       "    <tr>\n",
       "      <th>2</th>\n",
       "      <td>2022-11-28 16:22:58.000</td>\n",
       "      <td>11319</td>\n",
       "      <td>26879</td>\n",
       "      <td>Diária</td>\n",
       "      <td>Diamante</td>\n",
       "    </tr>\n",
       "    <tr>\n",
       "      <th>3</th>\n",
       "      <td>2022-11-28 16:37:00.000</td>\n",
       "      <td>11320</td>\n",
       "      <td>12224</td>\n",
       "      <td>Diária</td>\n",
       "      <td>Ouro</td>\n",
       "    </tr>\n",
       "    <tr>\n",
       "      <th>4</th>\n",
       "      <td>2022-09-08 17:05:24.000</td>\n",
       "      <td>8436</td>\n",
       "      <td>18608</td>\n",
       "      <td>Diária</td>\n",
       "      <td>Ouro</td>\n",
       "    </tr>\n",
       "  </tbody>\n",
       "</table>\n",
       "</div>"
      ],
      "text/plain": [
       "                created_at  freight_id  driver_id      tipo  nivel_px\n",
       "0  2023-04-28 15:50:15.000       22059      64674  Ajudante       NaN\n",
       "1  2023-05-10 14:20:02.000       23068      29889    Diária      Ouro\n",
       "2  2022-11-28 16:22:58.000       11319      26879    Diária  Diamante\n",
       "3  2022-11-28 16:37:00.000       11320      12224    Diária      Ouro\n",
       "4  2022-09-08 17:05:24.000        8436      18608    Diária      Ouro"
      ]
     },
     "execution_count": 2,
     "metadata": {},
     "output_type": "execute_result"
    }
   ],
   "source": [
    "all_contracts = pd.read_csv(\"src/data/all_contracts.csv\")\n",
    "all_contracts = all_contracts.loc[:, ~all_contracts.columns.str.contains('^Unnamed')]\n",
    "\n",
    "all_contracts.head()"
   ]
  },
  {
   "cell_type": "markdown",
   "metadata": {},
   "source": [
    "# df_original"
   ]
  },
  {
   "cell_type": "code",
   "execution_count": 3,
   "metadata": {},
   "outputs": [
    {
     "data": {
      "text/html": [
       "<div>\n",
       "<style scoped>\n",
       "    .dataframe tbody tr th:only-of-type {\n",
       "        vertical-align: middle;\n",
       "    }\n",
       "\n",
       "    .dataframe tbody tr th {\n",
       "        vertical-align: top;\n",
       "    }\n",
       "\n",
       "    .dataframe thead th {\n",
       "        text-align: right;\n",
       "    }\n",
       "</style>\n",
       "<table border=\"1\" class=\"dataframe\">\n",
       "  <thead>\n",
       "    <tr style=\"text-align: right;\">\n",
       "      <th></th>\n",
       "      <th>created_at</th>\n",
       "      <th>id_adiamento</th>\n",
       "      <th>dt_alteracao</th>\n",
       "      <th>freight_id</th>\n",
       "      <th>old_value_start</th>\n",
       "      <th>new_value_start</th>\n",
       "      <th>horas_adicionadas</th>\n",
       "      <th>tipo</th>\n",
       "      <th>driver_id</th>\n",
       "      <th>concluido</th>\n",
       "      <th>qt_candidaturas_antes_adiamento</th>\n",
       "      <th>qt_selecionados_antes_adiamento</th>\n",
       "    </tr>\n",
       "  </thead>\n",
       "  <tbody>\n",
       "    <tr>\n",
       "      <th>0</th>\n",
       "      <td>2025-03-22 20:09:17.000</td>\n",
       "      <td>3040413</td>\n",
       "      <td>2025-03-24 16:36:37.000</td>\n",
       "      <td>151948</td>\n",
       "      <td>2025-03-25 08:00:00.000</td>\n",
       "      <td>2025-03-26 08:00:00.000</td>\n",
       "      <td>24.0</td>\n",
       "      <td>Diária</td>\n",
       "      <td>44446</td>\n",
       "      <td>Não</td>\n",
       "      <td>2</td>\n",
       "      <td>0</td>\n",
       "    </tr>\n",
       "    <tr>\n",
       "      <th>1</th>\n",
       "      <td>2025-03-22 20:09:17.000</td>\n",
       "      <td>3047514</td>\n",
       "      <td>2025-03-25 16:59:32.000</td>\n",
       "      <td>151948</td>\n",
       "      <td>2025-03-26 08:00:00.000</td>\n",
       "      <td>2025-03-27 08:00:00.000</td>\n",
       "      <td>24.0</td>\n",
       "      <td>Diária</td>\n",
       "      <td>44446</td>\n",
       "      <td>Não</td>\n",
       "      <td>3</td>\n",
       "      <td>0</td>\n",
       "    </tr>\n",
       "    <tr>\n",
       "      <th>2</th>\n",
       "      <td>2025-03-22 20:09:17.000</td>\n",
       "      <td>3077042</td>\n",
       "      <td>2025-03-31 07:58:29.000</td>\n",
       "      <td>151948</td>\n",
       "      <td>2025-03-27 08:00:00.000</td>\n",
       "      <td>2025-04-02 08:00:00.000</td>\n",
       "      <td>144.0</td>\n",
       "      <td>Diária</td>\n",
       "      <td>44446</td>\n",
       "      <td>Não</td>\n",
       "      <td>3</td>\n",
       "      <td>0</td>\n",
       "    </tr>\n",
       "    <tr>\n",
       "      <th>3</th>\n",
       "      <td>2025-03-22 20:09:17.000</td>\n",
       "      <td>3101483</td>\n",
       "      <td>2025-04-02 14:11:01.000</td>\n",
       "      <td>151948</td>\n",
       "      <td>2025-04-02 08:00:00.000</td>\n",
       "      <td>2025-04-04 08:00:00.000</td>\n",
       "      <td>48.0</td>\n",
       "      <td>Diária</td>\n",
       "      <td>44446</td>\n",
       "      <td>Não</td>\n",
       "      <td>5</td>\n",
       "      <td>1</td>\n",
       "    </tr>\n",
       "    <tr>\n",
       "      <th>4</th>\n",
       "      <td>2025-03-22 20:09:17.000</td>\n",
       "      <td>3113234</td>\n",
       "      <td>2025-04-04 11:15:58.000</td>\n",
       "      <td>151948</td>\n",
       "      <td>2025-04-04 08:00:00.000</td>\n",
       "      <td>2025-04-07 08:00:00.000</td>\n",
       "      <td>72.0</td>\n",
       "      <td>Diária</td>\n",
       "      <td>44446</td>\n",
       "      <td>Não</td>\n",
       "      <td>5</td>\n",
       "      <td>1</td>\n",
       "    </tr>\n",
       "  </tbody>\n",
       "</table>\n",
       "</div>"
      ],
      "text/plain": [
       "                created_at  id_adiamento             dt_alteracao  freight_id  \\\n",
       "0  2025-03-22 20:09:17.000       3040413  2025-03-24 16:36:37.000      151948   \n",
       "1  2025-03-22 20:09:17.000       3047514  2025-03-25 16:59:32.000      151948   \n",
       "2  2025-03-22 20:09:17.000       3077042  2025-03-31 07:58:29.000      151948   \n",
       "3  2025-03-22 20:09:17.000       3101483  2025-04-02 14:11:01.000      151948   \n",
       "4  2025-03-22 20:09:17.000       3113234  2025-04-04 11:15:58.000      151948   \n",
       "\n",
       "           old_value_start          new_value_start  horas_adicionadas  \\\n",
       "0  2025-03-25 08:00:00.000  2025-03-26 08:00:00.000               24.0   \n",
       "1  2025-03-26 08:00:00.000  2025-03-27 08:00:00.000               24.0   \n",
       "2  2025-03-27 08:00:00.000  2025-04-02 08:00:00.000              144.0   \n",
       "3  2025-04-02 08:00:00.000  2025-04-04 08:00:00.000               48.0   \n",
       "4  2025-04-04 08:00:00.000  2025-04-07 08:00:00.000               72.0   \n",
       "\n",
       "     tipo  driver_id concluido  qt_candidaturas_antes_adiamento  \\\n",
       "0  Diária      44446       Não                                2   \n",
       "1  Diária      44446       Não                                3   \n",
       "2  Diária      44446       Não                                3   \n",
       "3  Diária      44446       Não                                5   \n",
       "4  Diária      44446       Não                                5   \n",
       "\n",
       "   qt_selecionados_antes_adiamento  \n",
       "0                                0  \n",
       "1                                0  \n",
       "2                                0  \n",
       "3                                1  \n",
       "4                                1  "
      ]
     },
     "execution_count": 3,
     "metadata": {},
     "output_type": "execute_result"
    }
   ],
   "source": [
    "df_original_inicial = pd.read_csv(\"src/data/contratos_adiados.csv\")\n",
    "df_original_inicial = df_original_inicial.loc[:, ~df_original_inicial.columns.str.contains('^Unnamed')]\n",
    "\n",
    "df_original_inicial.head()"
   ]
  },
  {
   "cell_type": "code",
   "execution_count": 4,
   "metadata": {},
   "outputs": [
    {
     "data": {
      "text/html": [
       "<div>\n",
       "<style scoped>\n",
       "    .dataframe tbody tr th:only-of-type {\n",
       "        vertical-align: middle;\n",
       "    }\n",
       "\n",
       "    .dataframe tbody tr th {\n",
       "        vertical-align: top;\n",
       "    }\n",
       "\n",
       "    .dataframe thead th {\n",
       "        text-align: right;\n",
       "    }\n",
       "</style>\n",
       "<table border=\"1\" class=\"dataframe\">\n",
       "  <thead>\n",
       "    <tr style=\"text-align: right;\">\n",
       "      <th></th>\n",
       "      <th>created_at</th>\n",
       "      <th>id_adiamento</th>\n",
       "      <th>dt_alteracao</th>\n",
       "      <th>freight_id</th>\n",
       "      <th>old_value_start</th>\n",
       "      <th>new_value_start</th>\n",
       "      <th>horas_adicionadas</th>\n",
       "      <th>tipo</th>\n",
       "      <th>driver_id</th>\n",
       "      <th>concluido</th>\n",
       "      <th>qt_candidaturas_antes_adiamento</th>\n",
       "      <th>qt_selecionados_antes_adiamento</th>\n",
       "    </tr>\n",
       "  </thead>\n",
       "  <tbody>\n",
       "    <tr>\n",
       "      <th>0</th>\n",
       "      <td>2025-03-22 20:09:17</td>\n",
       "      <td>3040413</td>\n",
       "      <td>2025-03-24 16:36:37.000</td>\n",
       "      <td>151948</td>\n",
       "      <td>2025-03-25 08:00:00</td>\n",
       "      <td>2025-03-26 08:00:00</td>\n",
       "      <td>24.0</td>\n",
       "      <td>Diária</td>\n",
       "      <td>44446</td>\n",
       "      <td>Não</td>\n",
       "      <td>2</td>\n",
       "      <td>0</td>\n",
       "    </tr>\n",
       "    <tr>\n",
       "      <th>1</th>\n",
       "      <td>2025-03-22 20:09:17</td>\n",
       "      <td>3047514</td>\n",
       "      <td>2025-03-25 16:59:32.000</td>\n",
       "      <td>151948</td>\n",
       "      <td>2025-03-26 08:00:00</td>\n",
       "      <td>2025-03-27 08:00:00</td>\n",
       "      <td>24.0</td>\n",
       "      <td>Diária</td>\n",
       "      <td>44446</td>\n",
       "      <td>Não</td>\n",
       "      <td>3</td>\n",
       "      <td>0</td>\n",
       "    </tr>\n",
       "    <tr>\n",
       "      <th>2</th>\n",
       "      <td>2025-03-22 20:09:17</td>\n",
       "      <td>3077042</td>\n",
       "      <td>2025-03-31 07:58:29.000</td>\n",
       "      <td>151948</td>\n",
       "      <td>2025-03-27 08:00:00</td>\n",
       "      <td>2025-04-02 08:00:00</td>\n",
       "      <td>144.0</td>\n",
       "      <td>Diária</td>\n",
       "      <td>44446</td>\n",
       "      <td>Não</td>\n",
       "      <td>3</td>\n",
       "      <td>0</td>\n",
       "    </tr>\n",
       "    <tr>\n",
       "      <th>3</th>\n",
       "      <td>2025-03-22 20:09:17</td>\n",
       "      <td>3101483</td>\n",
       "      <td>2025-04-02 14:11:01.000</td>\n",
       "      <td>151948</td>\n",
       "      <td>2025-04-02 08:00:00</td>\n",
       "      <td>2025-04-04 08:00:00</td>\n",
       "      <td>48.0</td>\n",
       "      <td>Diária</td>\n",
       "      <td>44446</td>\n",
       "      <td>Não</td>\n",
       "      <td>5</td>\n",
       "      <td>1</td>\n",
       "    </tr>\n",
       "    <tr>\n",
       "      <th>4</th>\n",
       "      <td>2025-03-22 20:09:17</td>\n",
       "      <td>3113234</td>\n",
       "      <td>2025-04-04 11:15:58.000</td>\n",
       "      <td>151948</td>\n",
       "      <td>2025-04-04 08:00:00</td>\n",
       "      <td>2025-04-07 08:00:00</td>\n",
       "      <td>72.0</td>\n",
       "      <td>Diária</td>\n",
       "      <td>44446</td>\n",
       "      <td>Não</td>\n",
       "      <td>5</td>\n",
       "      <td>1</td>\n",
       "    </tr>\n",
       "  </tbody>\n",
       "</table>\n",
       "</div>"
      ],
      "text/plain": [
       "           created_at  id_adiamento             dt_alteracao  freight_id  \\\n",
       "0 2025-03-22 20:09:17       3040413  2025-03-24 16:36:37.000      151948   \n",
       "1 2025-03-22 20:09:17       3047514  2025-03-25 16:59:32.000      151948   \n",
       "2 2025-03-22 20:09:17       3077042  2025-03-31 07:58:29.000      151948   \n",
       "3 2025-03-22 20:09:17       3101483  2025-04-02 14:11:01.000      151948   \n",
       "4 2025-03-22 20:09:17       3113234  2025-04-04 11:15:58.000      151948   \n",
       "\n",
       "      old_value_start     new_value_start  horas_adicionadas    tipo  \\\n",
       "0 2025-03-25 08:00:00 2025-03-26 08:00:00               24.0  Diária   \n",
       "1 2025-03-26 08:00:00 2025-03-27 08:00:00               24.0  Diária   \n",
       "2 2025-03-27 08:00:00 2025-04-02 08:00:00              144.0  Diária   \n",
       "3 2025-04-02 08:00:00 2025-04-04 08:00:00               48.0  Diária   \n",
       "4 2025-04-04 08:00:00 2025-04-07 08:00:00               72.0  Diária   \n",
       "\n",
       "   driver_id concluido  qt_candidaturas_antes_adiamento  \\\n",
       "0      44446       Não                                2   \n",
       "1      44446       Não                                3   \n",
       "2      44446       Não                                3   \n",
       "3      44446       Não                                5   \n",
       "4      44446       Não                                5   \n",
       "\n",
       "   qt_selecionados_antes_adiamento  \n",
       "0                                0  \n",
       "1                                0  \n",
       "2                                0  \n",
       "3                                1  \n",
       "4                                1  "
      ]
     },
     "execution_count": 4,
     "metadata": {},
     "output_type": "execute_result"
    }
   ],
   "source": [
    "import pandas as pd\n",
    "import re\n",
    "\n",
    "# eliminando contratos com datas inválidas\n",
    "cols_to_check = ['old_value_start', 'new_value_start', 'created_at']\n",
    "\n",
    "date_pattern = re.compile(r\"^(\\d{4})-\\d{2}-\\d{2}\")\n",
    "\n",
    "def year_out_of_bounds(val):\n",
    "    if isinstance(val, str):\n",
    "        match = date_pattern.match(val)\n",
    "        if match:\n",
    "            year = int(match.group(1))\n",
    "            return year < 1677 or year > 2262\n",
    "    return False\n",
    "\n",
    "freights_com_erro = set()\n",
    "\n",
    "for col in cols_to_check:\n",
    "    mask = df_original_inicial[col].apply(year_out_of_bounds)\n",
    "    freights_com_erro.update(df_original_inicial.loc[mask, 'freight_id'].tolist())\n",
    "\n",
    "df_invalidos = df_original_inicial[df_original_inicial['freight_id'].isin(freights_com_erro)]\n",
    "\n",
    "\n",
    "df_original_inicial = df_original_inicial.merge(\n",
    "    df_invalidos[['freight_id', 'old_value_start', 'new_value_start']], \n",
    "    on=['freight_id', 'old_value_start', 'new_value_start'], \n",
    "    how='left', \n",
    "    indicator=True\n",
    ")\n",
    "\n",
    "df_original_inicial = df_original_inicial[df_original_inicial['_merge'] == 'left_only'].drop(columns=['_merge'])\n",
    "df_original_inicial[cols_to_check] = df_original_inicial[cols_to_check].apply(pd.to_datetime)\n",
    "\n",
    "df_original_inicial.head()"
   ]
  },
  {
   "cell_type": "code",
   "execution_count": 5,
   "metadata": {},
   "outputs": [
    {
     "data": {
      "text/plain": [
       "count    5.000000\n",
       "mean     3.600000\n",
       "std      1.341641\n",
       "min      2.000000\n",
       "25%      3.000000\n",
       "50%      3.000000\n",
       "75%      5.000000\n",
       "max      5.000000\n",
       "Name: qt_candidaturas_antes_adiamento, dtype: float64"
      ]
     },
     "execution_count": 5,
     "metadata": {},
     "output_type": "execute_result"
    }
   ],
   "source": [
    "df_original_inicial.qt_candidaturas_antes_adiamento.describe()"
   ]
  },
  {
   "cell_type": "code",
   "execution_count": 6,
   "metadata": {},
   "outputs": [
    {
     "data": {
      "text/plain": [
       "count    5.000000\n",
       "mean     0.400000\n",
       "std      0.547723\n",
       "min      0.000000\n",
       "25%      0.000000\n",
       "50%      0.000000\n",
       "75%      1.000000\n",
       "max      1.000000\n",
       "Name: qt_selecionados_antes_adiamento, dtype: float64"
      ]
     },
     "execution_count": 6,
     "metadata": {},
     "output_type": "execute_result"
    }
   ],
   "source": [
    "df_original_inicial.qt_selecionados_antes_adiamento.describe()"
   ]
  },
  {
   "cell_type": "code",
   "execution_count": 7,
   "metadata": {},
   "outputs": [
    {
     "data": {
      "text/html": [
       "<div>\n",
       "<style scoped>\n",
       "    .dataframe tbody tr th:only-of-type {\n",
       "        vertical-align: middle;\n",
       "    }\n",
       "\n",
       "    .dataframe tbody tr th {\n",
       "        vertical-align: top;\n",
       "    }\n",
       "\n",
       "    .dataframe thead th {\n",
       "        text-align: right;\n",
       "    }\n",
       "</style>\n",
       "<table border=\"1\" class=\"dataframe\">\n",
       "  <thead>\n",
       "    <tr style=\"text-align: right;\">\n",
       "      <th></th>\n",
       "      <th>dt_alteracao</th>\n",
       "      <th>freight_id</th>\n",
       "      <th>old_value_start</th>\n",
       "      <th>new_value_start</th>\n",
       "      <th>horas_adiadas</th>\n",
       "      <th>tipo</th>\n",
       "      <th>driver_id</th>\n",
       "      <th>concluido</th>\n",
       "      <th>qt_candidaturas_antes_adiamento</th>\n",
       "      <th>qt_selecionados_antes_adiamento</th>\n",
       "      <th>ano_mes</th>\n",
       "      <th>houve_candidatura</th>\n",
       "      <th>houve_selecionado</th>\n",
       "    </tr>\n",
       "  </thead>\n",
       "  <tbody>\n",
       "    <tr>\n",
       "      <th>0</th>\n",
       "      <td>2025-03-24 16:36:37.000</td>\n",
       "      <td>151948</td>\n",
       "      <td>2025-03-25 08:00:00</td>\n",
       "      <td>2025-03-26 08:00:00</td>\n",
       "      <td>24.0</td>\n",
       "      <td>Diária</td>\n",
       "      <td>44446</td>\n",
       "      <td>Não</td>\n",
       "      <td>2</td>\n",
       "      <td>0</td>\n",
       "      <td>2025-03-01</td>\n",
       "      <td>Sim</td>\n",
       "      <td>Não</td>\n",
       "    </tr>\n",
       "    <tr>\n",
       "      <th>1</th>\n",
       "      <td>2025-03-25 16:59:32.000</td>\n",
       "      <td>151948</td>\n",
       "      <td>2025-03-26 08:00:00</td>\n",
       "      <td>2025-03-27 08:00:00</td>\n",
       "      <td>24.0</td>\n",
       "      <td>Diária</td>\n",
       "      <td>44446</td>\n",
       "      <td>Não</td>\n",
       "      <td>3</td>\n",
       "      <td>0</td>\n",
       "      <td>2025-03-01</td>\n",
       "      <td>Sim</td>\n",
       "      <td>Não</td>\n",
       "    </tr>\n",
       "    <tr>\n",
       "      <th>2</th>\n",
       "      <td>2025-03-31 07:58:29.000</td>\n",
       "      <td>151948</td>\n",
       "      <td>2025-03-27 08:00:00</td>\n",
       "      <td>2025-04-02 08:00:00</td>\n",
       "      <td>144.0</td>\n",
       "      <td>Diária</td>\n",
       "      <td>44446</td>\n",
       "      <td>Não</td>\n",
       "      <td>3</td>\n",
       "      <td>0</td>\n",
       "      <td>2025-03-01</td>\n",
       "      <td>Sim</td>\n",
       "      <td>Não</td>\n",
       "    </tr>\n",
       "    <tr>\n",
       "      <th>3</th>\n",
       "      <td>2025-04-02 14:11:01.000</td>\n",
       "      <td>151948</td>\n",
       "      <td>2025-04-02 08:00:00</td>\n",
       "      <td>2025-04-04 08:00:00</td>\n",
       "      <td>48.0</td>\n",
       "      <td>Diária</td>\n",
       "      <td>44446</td>\n",
       "      <td>Não</td>\n",
       "      <td>5</td>\n",
       "      <td>1</td>\n",
       "      <td>2025-03-01</td>\n",
       "      <td>Sim</td>\n",
       "      <td>Sim</td>\n",
       "    </tr>\n",
       "    <tr>\n",
       "      <th>4</th>\n",
       "      <td>2025-04-04 11:15:58.000</td>\n",
       "      <td>151948</td>\n",
       "      <td>2025-04-04 08:00:00</td>\n",
       "      <td>2025-04-07 08:00:00</td>\n",
       "      <td>72.0</td>\n",
       "      <td>Diária</td>\n",
       "      <td>44446</td>\n",
       "      <td>Não</td>\n",
       "      <td>5</td>\n",
       "      <td>1</td>\n",
       "      <td>2025-03-01</td>\n",
       "      <td>Sim</td>\n",
       "      <td>Sim</td>\n",
       "    </tr>\n",
       "  </tbody>\n",
       "</table>\n",
       "</div>"
      ],
      "text/plain": [
       "              dt_alteracao  freight_id     old_value_start  \\\n",
       "0  2025-03-24 16:36:37.000      151948 2025-03-25 08:00:00   \n",
       "1  2025-03-25 16:59:32.000      151948 2025-03-26 08:00:00   \n",
       "2  2025-03-31 07:58:29.000      151948 2025-03-27 08:00:00   \n",
       "3  2025-04-02 14:11:01.000      151948 2025-04-02 08:00:00   \n",
       "4  2025-04-04 11:15:58.000      151948 2025-04-04 08:00:00   \n",
       "\n",
       "      new_value_start  horas_adiadas    tipo  driver_id concluido  \\\n",
       "0 2025-03-26 08:00:00           24.0  Diária      44446       Não   \n",
       "1 2025-03-27 08:00:00           24.0  Diária      44446       Não   \n",
       "2 2025-04-02 08:00:00          144.0  Diária      44446       Não   \n",
       "3 2025-04-04 08:00:00           48.0  Diária      44446       Não   \n",
       "4 2025-04-07 08:00:00           72.0  Diária      44446       Não   \n",
       "\n",
       "   qt_candidaturas_antes_adiamento  qt_selecionados_antes_adiamento  \\\n",
       "0                                2                                0   \n",
       "1                                3                                0   \n",
       "2                                3                                0   \n",
       "3                                5                                1   \n",
       "4                                5                                1   \n",
       "\n",
       "     ano_mes houve_candidatura houve_selecionado  \n",
       "0 2025-03-01               Sim               Não  \n",
       "1 2025-03-01               Sim               Não  \n",
       "2 2025-03-01               Sim               Não  \n",
       "3 2025-03-01               Sim               Sim  \n",
       "4 2025-03-01               Sim               Sim  "
      ]
     },
     "execution_count": 7,
     "metadata": {},
     "output_type": "execute_result"
    }
   ],
   "source": [
    "df_original_inicial['ano_mes'] = df_original_inicial['created_at'].dt.to_period('M').dt.to_timestamp()\n",
    "\n",
    "df_original_inicial = df_original_inicial.drop(columns=['created_at', 'id_adiamento'])\n",
    "\n",
    "df_original_inicial = df_original_inicial.rename(columns={'horas_adicionadas': 'horas_adiadas'})\n",
    "df_original_inicial['horas_adiadas'] = np.ceil(df_original_inicial['horas_adiadas'] / 24) * 24\n",
    "\n",
    "\n",
    "\n",
    "# ajustando o mesmo período para os contratos já analisados em remocao_dias\n",
    "df_original_inicial = df_original_inicial.loc[(df_original_inicial.ano_mes > '2024-10-01') & (df_original_inicial.ano_mes <'2025-04-01') ]\n",
    "\n",
    "# Criar colunas de interesse\n",
    "df_original_inicial['houve_candidatura'] = df_original_inicial['qt_candidaturas_antes_adiamento'].apply(\n",
    "    lambda x: 'Sim' if x != 0 else 'Não')\n",
    "\n",
    "df_original_inicial['houve_selecionado'] = df_original_inicial['qt_selecionados_antes_adiamento'].apply(\n",
    "    lambda x: 'Sim' if x != 0 else 'Não')\n",
    "\n",
    "\n",
    "df_original_inicial.head()"
   ]
  },
  {
   "cell_type": "markdown",
   "metadata": {},
   "source": [
    "# df_original"
   ]
  },
  {
   "cell_type": "code",
   "execution_count": 8,
   "metadata": {},
   "outputs": [
    {
     "data": {
      "text/html": [
       "<div>\n",
       "<style scoped>\n",
       "    .dataframe tbody tr th:only-of-type {\n",
       "        vertical-align: middle;\n",
       "    }\n",
       "\n",
       "    .dataframe tbody tr th {\n",
       "        vertical-align: top;\n",
       "    }\n",
       "\n",
       "    .dataframe thead th {\n",
       "        text-align: right;\n",
       "    }\n",
       "</style>\n",
       "<table border=\"1\" class=\"dataframe\">\n",
       "  <thead>\n",
       "    <tr style=\"text-align: right;\">\n",
       "      <th></th>\n",
       "      <th>ano_mes</th>\n",
       "      <th>dt_alteracao</th>\n",
       "      <th>tipo</th>\n",
       "      <th>freight_id</th>\n",
       "      <th>horas_adiadas</th>\n",
       "      <th>concluido</th>\n",
       "      <th>houve_candidatura</th>\n",
       "      <th>houve_selecionado</th>\n",
       "    </tr>\n",
       "  </thead>\n",
       "  <tbody>\n",
       "    <tr>\n",
       "      <th>0</th>\n",
       "      <td>2025-03-01</td>\n",
       "      <td>2025-03-24 16:36:37.000</td>\n",
       "      <td>Diária</td>\n",
       "      <td>151948</td>\n",
       "      <td>24.0</td>\n",
       "      <td>Não</td>\n",
       "      <td>Sim</td>\n",
       "      <td>Não</td>\n",
       "    </tr>\n",
       "    <tr>\n",
       "      <th>1</th>\n",
       "      <td>2025-03-01</td>\n",
       "      <td>2025-03-25 16:59:32.000</td>\n",
       "      <td>Diária</td>\n",
       "      <td>151948</td>\n",
       "      <td>24.0</td>\n",
       "      <td>Não</td>\n",
       "      <td>Sim</td>\n",
       "      <td>Não</td>\n",
       "    </tr>\n",
       "    <tr>\n",
       "      <th>2</th>\n",
       "      <td>2025-03-01</td>\n",
       "      <td>2025-03-31 07:58:29.000</td>\n",
       "      <td>Diária</td>\n",
       "      <td>151948</td>\n",
       "      <td>144.0</td>\n",
       "      <td>Não</td>\n",
       "      <td>Sim</td>\n",
       "      <td>Não</td>\n",
       "    </tr>\n",
       "    <tr>\n",
       "      <th>3</th>\n",
       "      <td>2025-03-01</td>\n",
       "      <td>2025-04-02 14:11:01.000</td>\n",
       "      <td>Diária</td>\n",
       "      <td>151948</td>\n",
       "      <td>48.0</td>\n",
       "      <td>Não</td>\n",
       "      <td>Sim</td>\n",
       "      <td>Sim</td>\n",
       "    </tr>\n",
       "    <tr>\n",
       "      <th>4</th>\n",
       "      <td>2025-03-01</td>\n",
       "      <td>2025-04-04 11:15:58.000</td>\n",
       "      <td>Diária</td>\n",
       "      <td>151948</td>\n",
       "      <td>72.0</td>\n",
       "      <td>Não</td>\n",
       "      <td>Sim</td>\n",
       "      <td>Sim</td>\n",
       "    </tr>\n",
       "  </tbody>\n",
       "</table>\n",
       "</div>"
      ],
      "text/plain": [
       "     ano_mes             dt_alteracao    tipo  freight_id  horas_adiadas  \\\n",
       "0 2025-03-01  2025-03-24 16:36:37.000  Diária      151948           24.0   \n",
       "1 2025-03-01  2025-03-25 16:59:32.000  Diária      151948           24.0   \n",
       "2 2025-03-01  2025-03-31 07:58:29.000  Diária      151948          144.0   \n",
       "3 2025-03-01  2025-04-02 14:11:01.000  Diária      151948           48.0   \n",
       "4 2025-03-01  2025-04-04 11:15:58.000  Diária      151948           72.0   \n",
       "\n",
       "  concluido houve_candidatura houve_selecionado  \n",
       "0       Não               Sim               Não  \n",
       "1       Não               Sim               Não  \n",
       "2       Não               Sim               Não  \n",
       "3       Não               Sim               Sim  \n",
       "4       Não               Sim               Sim  "
      ]
     },
     "execution_count": 8,
     "metadata": {},
     "output_type": "execute_result"
    }
   ],
   "source": [
    "df_original = df_original_inicial[['ano_mes','dt_alteracao', 'tipo', 'freight_id', \n",
    "       'horas_adiadas',  'concluido', 'houve_candidatura', 'houve_selecionado']]\n",
    "\n",
    "df_original"
   ]
  },
  {
   "cell_type": "code",
   "execution_count": 9,
   "metadata": {},
   "outputs": [
    {
     "data": {
      "text/plain": [
       "count      5.000000\n",
       "mean      62.400000\n",
       "std       49.767459\n",
       "min       24.000000\n",
       "25%       24.000000\n",
       "50%       48.000000\n",
       "75%       72.000000\n",
       "max      144.000000\n",
       "Name: horas_adiadas, dtype: float64"
      ]
     },
     "execution_count": 9,
     "metadata": {},
     "output_type": "execute_result"
    }
   ],
   "source": [
    "df_original.horas_adiadas.describe()"
   ]
  },
  {
   "cell_type": "code",
   "execution_count": 10,
   "metadata": {},
   "outputs": [
    {
     "data": {
      "text/plain": [
       "array([ 24., 144.,  48.,  72.])"
      ]
     },
     "execution_count": 10,
     "metadata": {},
     "output_type": "execute_result"
    }
   ],
   "source": [
    "df_original.horas_adiadas.unique()"
   ]
  },
  {
   "cell_type": "code",
   "execution_count": 11,
   "metadata": {},
   "outputs": [
    {
     "data": {
      "text/plain": [
       "horas_adiadas\n",
       "24.0     2\n",
       "144.0    1\n",
       "48.0     1\n",
       "72.0     1\n",
       "Name: count, dtype: int64"
      ]
     },
     "execution_count": 11,
     "metadata": {},
     "output_type": "execute_result"
    }
   ],
   "source": [
    "# Calcular limites usando IQR \n",
    "q1 = df_original['horas_adiadas'].quantile(0.25)\n",
    "q3 = df_original['horas_adiadas'].quantile(0.75)\n",
    "iqr = q3 - q1\n",
    "\n",
    "limite_inferior = q1 - 2 * iqr\n",
    "limite_superior = q3 + 2 * iqr\n",
    "\n",
    "# Filtrar dados sem outliers\n",
    "df_sem_outliers = df_original[\n",
    "    (df_original['horas_adiadas'] >= limite_inferior) &\n",
    "    (df_original['horas_adiadas'] <= limite_superior)\n",
    "]\n",
    "df_sem_outliers.horas_adiadas.value_counts()"
   ]
  },
  {
   "cell_type": "code",
   "execution_count": 12,
   "metadata": {},
   "outputs": [
    {
     "data": {
      "text/plain": [
       "tipo\n",
       "Diária    5\n",
       "Name: count, dtype: int64"
      ]
     },
     "execution_count": 12,
     "metadata": {},
     "output_type": "execute_result"
    }
   ],
   "source": [
    "df_sem_outliers.tipo.value_counts()"
   ]
  },
  {
   "cell_type": "code",
   "execution_count": 13,
   "metadata": {},
   "outputs": [],
   "source": [
    "df_sem_outliers.to_csv(\"src/data/df_original_dias_adiados.csv\")"
   ]
  },
  {
   "cell_type": "markdown",
   "metadata": {},
   "source": [
    "# df_original_contratos_adiados"
   ]
  },
  {
   "cell_type": "code",
   "execution_count": 14,
   "metadata": {},
   "outputs": [
    {
     "ename": "KeyError",
     "evalue": "\"['created_at'] not in index\"",
     "output_type": "error",
     "traceback": [
      "\u001b[31m---------------------------------------------------------------------------\u001b[39m",
      "\u001b[31mKeyError\u001b[39m                                  Traceback (most recent call last)",
      "\u001b[36mCell\u001b[39m\u001b[36m \u001b[39m\u001b[32mIn[14]\u001b[39m\u001b[32m, line 1\u001b[39m\n\u001b[32m----> \u001b[39m\u001b[32m1\u001b[39m df_original_contratos_adiados = \u001b[43mdf_original_inicial\u001b[49m\u001b[43m[\u001b[49m\u001b[43m[\u001b[49m\u001b[33;43m'\u001b[39;49m\u001b[33;43mfreight_id\u001b[39;49m\u001b[33;43m'\u001b[39;49m\u001b[43m,\u001b[49m\u001b[43m \u001b[49m\u001b[33;43m'\u001b[39;49m\u001b[33;43mtipo\u001b[39;49m\u001b[33;43m'\u001b[39;49m\u001b[43m,\u001b[49m\u001b[33;43m'\u001b[39;49m\u001b[33;43mcreated_at\u001b[39;49m\u001b[33;43m'\u001b[39;49m\u001b[43m,\u001b[49m\u001b[43m \u001b[49m\u001b[33;43m'\u001b[39;49m\u001b[33;43mhoras_adiadas\u001b[39;49m\u001b[33;43m'\u001b[39;49m\u001b[43m,\u001b[49m\u001b[43m \u001b[49m\u001b[33;43m'\u001b[39;49m\u001b[33;43mconcluido\u001b[39;49m\u001b[33;43m'\u001b[39;49m\u001b[43m,\u001b[49m\u001b[43m \u001b[49m\u001b[33;43m'\u001b[39;49m\u001b[33;43mhouve_candidatura\u001b[39;49m\u001b[33;43m'\u001b[39;49m\u001b[43m,\u001b[49m\u001b[43m \u001b[49m\u001b[33;43m'\u001b[39;49m\u001b[33;43mhouve_selecionado\u001b[39;49m\u001b[33;43m'\u001b[39;49m\u001b[43m]\u001b[49m\u001b[43m]\u001b[49m\n\u001b[32m      3\u001b[39m df_original_contratos_adiados\n",
      "\u001b[36mFile \u001b[39m\u001b[32m~/.local/share/virtualenvs/deboragomes-EFgHXifq/lib/python3.12/site-packages/pandas/core/frame.py:4108\u001b[39m, in \u001b[36mDataFrame.__getitem__\u001b[39m\u001b[34m(self, key)\u001b[39m\n\u001b[32m   4106\u001b[39m     \u001b[38;5;28;01mif\u001b[39;00m is_iterator(key):\n\u001b[32m   4107\u001b[39m         key = \u001b[38;5;28mlist\u001b[39m(key)\n\u001b[32m-> \u001b[39m\u001b[32m4108\u001b[39m     indexer = \u001b[38;5;28;43mself\u001b[39;49m\u001b[43m.\u001b[49m\u001b[43mcolumns\u001b[49m\u001b[43m.\u001b[49m\u001b[43m_get_indexer_strict\u001b[49m\u001b[43m(\u001b[49m\u001b[43mkey\u001b[49m\u001b[43m,\u001b[49m\u001b[43m \u001b[49m\u001b[33;43m\"\u001b[39;49m\u001b[33;43mcolumns\u001b[39;49m\u001b[33;43m\"\u001b[39;49m\u001b[43m)\u001b[49m[\u001b[32m1\u001b[39m]\n\u001b[32m   4110\u001b[39m \u001b[38;5;66;03m# take() does not accept boolean indexers\u001b[39;00m\n\u001b[32m   4111\u001b[39m \u001b[38;5;28;01mif\u001b[39;00m \u001b[38;5;28mgetattr\u001b[39m(indexer, \u001b[33m\"\u001b[39m\u001b[33mdtype\u001b[39m\u001b[33m\"\u001b[39m, \u001b[38;5;28;01mNone\u001b[39;00m) == \u001b[38;5;28mbool\u001b[39m:\n",
      "\u001b[36mFile \u001b[39m\u001b[32m~/.local/share/virtualenvs/deboragomes-EFgHXifq/lib/python3.12/site-packages/pandas/core/indexes/base.py:6200\u001b[39m, in \u001b[36mIndex._get_indexer_strict\u001b[39m\u001b[34m(self, key, axis_name)\u001b[39m\n\u001b[32m   6197\u001b[39m \u001b[38;5;28;01melse\u001b[39;00m:\n\u001b[32m   6198\u001b[39m     keyarr, indexer, new_indexer = \u001b[38;5;28mself\u001b[39m._reindex_non_unique(keyarr)\n\u001b[32m-> \u001b[39m\u001b[32m6200\u001b[39m \u001b[38;5;28;43mself\u001b[39;49m\u001b[43m.\u001b[49m\u001b[43m_raise_if_missing\u001b[49m\u001b[43m(\u001b[49m\u001b[43mkeyarr\u001b[49m\u001b[43m,\u001b[49m\u001b[43m \u001b[49m\u001b[43mindexer\u001b[49m\u001b[43m,\u001b[49m\u001b[43m \u001b[49m\u001b[43maxis_name\u001b[49m\u001b[43m)\u001b[49m\n\u001b[32m   6202\u001b[39m keyarr = \u001b[38;5;28mself\u001b[39m.take(indexer)\n\u001b[32m   6203\u001b[39m \u001b[38;5;28;01mif\u001b[39;00m \u001b[38;5;28misinstance\u001b[39m(key, Index):\n\u001b[32m   6204\u001b[39m     \u001b[38;5;66;03m# GH 42790 - Preserve name from an Index\u001b[39;00m\n",
      "\u001b[36mFile \u001b[39m\u001b[32m~/.local/share/virtualenvs/deboragomes-EFgHXifq/lib/python3.12/site-packages/pandas/core/indexes/base.py:6252\u001b[39m, in \u001b[36mIndex._raise_if_missing\u001b[39m\u001b[34m(self, key, indexer, axis_name)\u001b[39m\n\u001b[32m   6249\u001b[39m     \u001b[38;5;28;01mraise\u001b[39;00m \u001b[38;5;167;01mKeyError\u001b[39;00m(\u001b[33mf\u001b[39m\u001b[33m\"\u001b[39m\u001b[33mNone of [\u001b[39m\u001b[38;5;132;01m{\u001b[39;00mkey\u001b[38;5;132;01m}\u001b[39;00m\u001b[33m] are in the [\u001b[39m\u001b[38;5;132;01m{\u001b[39;00maxis_name\u001b[38;5;132;01m}\u001b[39;00m\u001b[33m]\u001b[39m\u001b[33m\"\u001b[39m)\n\u001b[32m   6251\u001b[39m not_found = \u001b[38;5;28mlist\u001b[39m(ensure_index(key)[missing_mask.nonzero()[\u001b[32m0\u001b[39m]].unique())\n\u001b[32m-> \u001b[39m\u001b[32m6252\u001b[39m \u001b[38;5;28;01mraise\u001b[39;00m \u001b[38;5;167;01mKeyError\u001b[39;00m(\u001b[33mf\u001b[39m\u001b[33m\"\u001b[39m\u001b[38;5;132;01m{\u001b[39;00mnot_found\u001b[38;5;132;01m}\u001b[39;00m\u001b[33m not in index\u001b[39m\u001b[33m\"\u001b[39m)\n",
      "\u001b[31mKeyError\u001b[39m: \"['created_at'] not in index\""
     ]
    }
   ],
   "source": [
    "df_original_contratos_adiados = df_original_inicial[['freight_id', 'tipo','created_at', 'horas_adiadas', 'concluido', 'houve_candidatura', 'houve_selecionado']]\n",
    "\n",
    "df_original_contratos_adiados"
   ]
  },
  {
   "cell_type": "code",
   "execution_count": null,
   "metadata": {},
   "outputs": [],
   "source": [
    "df_original_contratos_adiados.loc[df_original_contratos_adiados.freight_id == 151948]"
   ]
  },
  {
   "cell_type": "code",
   "execution_count": null,
   "metadata": {},
   "outputs": [],
   "source": [
    "df_original_contratos_adiados = (\n",
    "    df_original_contratos_adiados\n",
    "    .groupby(['freight_id', 'tipo'], as_index=False)\n",
    "    .agg(\n",
    "        horas_adiadas_total=('horas_adiadas', 'sum'),\n",
    "        concluido=('concluido', lambda x: 'Sim' if (x == 'Sim').any() else 'Não'),\n",
    "        houve_candidatura=('houve_candidatura', lambda x: 'Sim' if (x == 'Sim').any() else 'Não'),\n",
    "        houve_selecionado=('houve_selecionado', lambda x: 'Sim' if (x == 'Sim').any() else 'Não')\n",
    "    )\n",
    ")"
   ]
  },
  {
   "cell_type": "code",
   "execution_count": null,
   "metadata": {},
   "outputs": [],
   "source": [
    "df_original_contratos_adiados.loc[df_original_contratos_adiados.freight_id == 151948]"
   ]
  },
  {
   "cell_type": "code",
   "execution_count": null,
   "metadata": {},
   "outputs": [],
   "source": [
    "df_original_contratos_adiados = (\n",
    "    df_original_contratos_adiados\n",
    "    .groupby(['freight_id', 'tipo'], as_index=False)\n",
    "    .agg(\n",
    "        horas_adiadas_total=('horas_adiadas', 'sum'),\n",
    "        concluido=('concluido', lambda x: 'Sim' if (x == 'Sim').any() else 'Não')\n",
    "    )\n",
    ")\n",
    "\n",
    "df_original_contratos_adiados"
   ]
  },
  {
   "cell_type": "code",
   "execution_count": null,
   "metadata": {},
   "outputs": [],
   "source": [
    "# Calcular limites usando IQR \n",
    "q1 = df_original_contratos_adiados['horas_adiadas_total'].quantile(0.25)\n",
    "q3 = df_original_contratos_adiados['horas_adiadas_total'].quantile(0.75)\n",
    "iqr = q3 - q1\n",
    "\n",
    "limite_inferior = q1 - 3 * iqr\n",
    "limite_superior = q3 + 3 * iqr\n",
    "\n",
    "# Filtrar dados sem outliers\n",
    "df_original_contratos_adiados_sem_outlier = df_original_contratos_adiados[\n",
    "    (df_original_contratos_adiados['horas_adiadas_total'] >= limite_inferior) &\n",
    "    (df_original_contratos_adiados['horas_adiadas_total'] <= limite_superior)\n",
    "]\n",
    "df_original_contratos_adiados_sem_outlier.horas_adiadas_total.value_counts()"
   ]
  },
  {
   "cell_type": "code",
   "execution_count": null,
   "metadata": {},
   "outputs": [],
   "source": [
    "df_original_contratos_adiados_sem_outlier.loc[df_original_contratos_adiados.freight_id == 151948]"
   ]
  },
  {
   "cell_type": "code",
   "execution_count": null,
   "metadata": {},
   "outputs": [],
   "source": [
    "df_original_contratos_adiados_sem_outlier.to_csv(\"src/data/df_original_contratos_adiados.csv\")"
   ]
  }
 ],
 "metadata": {
  "kernelspec": {
   "display_name": ".modelo_python_notebook_venv",
   "language": "python",
   "name": "python3"
  },
  "language_info": {
   "codemirror_mode": {
    "name": "ipython",
    "version": 3
   },
   "file_extension": ".py",
   "mimetype": "text/x-python",
   "name": "python",
   "nbconvert_exporter": "python",
   "pygments_lexer": "ipython3",
   "version": "3.12.3"
  }
 },
 "nbformat": 4,
 "nbformat_minor": 2
}
