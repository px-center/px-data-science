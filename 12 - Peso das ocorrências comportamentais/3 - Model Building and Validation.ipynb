{
 "cells": [
  {
   "cell_type": "code",
   "execution_count": 1,
   "metadata": {},
   "outputs": [
    {
     "name": "stdout",
     "output_type": "stream",
     "text": [
      "Hash numérica de 5 dígitos: 94799\n"
     ]
    }
   ],
   "source": [
    "from src.libs.lib import *\n",
    "from processar_pontuacao_ocorrencias_academia import *\n",
    "import pandas as pd\n",
    "import matplotlib.pyplot as plt\n",
    "pd.set_option('display.max_rows', None)\n",
    "pd.set_option('display.max_columns', None)\n",
    "#2.6s"
   ]
  },
  {
   "cell_type": "code",
   "execution_count": 2,
   "metadata": {},
   "outputs": [
    {
     "name": "stdout",
     "output_type": "stream",
     "text": [
      "./src/queries/\n"
     ]
    },
    {
     "name": "stderr",
     "output_type": "stream",
     "text": [
      "/media/tschmitz/hope-keeper/2025_github/px-data-science/12 - Peso das ocorrências comportamentais/.pesos_ocorrencias_venv/lib/python3.10/site-packages/google/cloud/bigquery/table.py:1933: UserWarning: BigQuery Storage module not found, fetch data with the REST endpoint instead.\n",
      "  warnings.warn(\n"
     ]
    },
    {
     "name": "stdout",
     "output_type": "stream",
     "text": [
      "Query drivers_occurences.bq executada com sucesso.\n",
      "Queries executadas com sucesso, DataFrames disponíveis na lista `dfs`.\n"
     ]
    },
    {
     "name": "stderr",
     "output_type": "stream",
     "text": [
      "/media/tschmitz/hope-keeper/2025_github/px-data-science/12 - Peso das ocorrências comportamentais/.pesos_ocorrencias_venv/lib/python3.10/site-packages/google/cloud/bigquery/_pandas_helpers.py:489: FutureWarning: Loading pandas DataFrame into BigQuery will require pandas-gbq package version 0.26.1 or greater in the future. Tried to import pandas-gbq and got: No module named 'pandas_gbq'\n",
      "  warnings.warn(\n"
     ]
    },
    {
     "name": "stdout",
     "output_type": "stream",
     "text": [
      "Dados inseridos com sucesso na tabela: formal-purpose-354320.datascience.34701_pontuacao_ocorrencias_academia\n",
      "Processamento concluído e dados inseridos na tabela: 34701_pontuacao_ocorrencias_academia\n"
     ]
    }
   ],
   "source": [
    "processar_pontuacao_ocorrencias_academia()"
   ]
  }
 ],
 "metadata": {
  "kernelspec": {
   "display_name": ".pesos_ocorrencias_venv",
   "language": "python",
   "name": "python3"
  },
  "language_info": {
   "codemirror_mode": {
    "name": "ipython",
    "version": 3
   },
   "file_extension": ".py",
   "mimetype": "text/x-python",
   "name": "python",
   "nbconvert_exporter": "python",
   "pygments_lexer": "ipython3",
   "version": "3.10.12"
  }
 },
 "nbformat": 4,
 "nbformat_minor": 2
}
