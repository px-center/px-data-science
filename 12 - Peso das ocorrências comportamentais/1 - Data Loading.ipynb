{
 "cells": [
  {
   "cell_type": "code",
   "execution_count": null,
   "metadata": {},
   "outputs": [],
   "source": [
    "from src.libs.lib import *\n",
    "import pandas as pd\n",
    "import matplotlib.pyplot as plt\n",
    "pd.set_option('display.max_rows', None)\n",
    "pd.set_option('display.max_columns', None)"
   ]
  },
  {
   "cell_type": "code",
   "execution_count": null,
   "metadata": {},
   "outputs": [],
   "source": [
    "dfs = load_data_db()\n",
    "dfs_original = dfs[\"drivers_occurences\"]\n",
    "df_original_table = pd.read_csv('src/data/tabela_de_pontuações.csv', delimiter=\";\")\n",
    "df_original_table_correspondeces = pd.read_csv('src/data/tabela_de_pontuações_correspondencias.csv', delimiter=\";\")\n",
    "columns = ['Código', 'Ocorrência DB-PX', 'Ocorrência Tabela - Academia',\n",
    "       'Pontuação']\n",
    "df_original_table_correspondeces.columns = columns\n",
    "\n",
    "\n",
    "df = dfs_original.copy()\n",
    "\n",
    "# Converter as colunas para datetime\n",
    "df['contract_start'] = pd.to_datetime(df['contract_start'])\n",
    "df['occurence_create'] = pd.to_datetime(df['occurence_create'])\n",
    "\n",
    "# Calcular a diferença de data/hora em horas:\n",
    "# A subtração entre as datas gera um objeto timedelta. Para converter para horas, usamos total_seconds()/3600.\n",
    "df['diff_horas'] = (df['contract_start'] - df['occurence_create']).dt.total_seconds() / 3600\n",
    "dfs_original= df\n",
    "\n",
    "dfs_original = dfs_original.dropna(axis=0)\n",
    "\n",
    "# Exibir o DataFrame resultante\n",
    "display(df.head())\n",
    "mask = df[\"description\"] == \"Desistência de contratos\"\n",
    "print(\"Proporção de desistencias antes do inicio do contrato\")\n",
    "print((df[mask][\"diff_horas\"] > 0).mean())\n",
    "\n",
    "#5.5s"
   ]
  },
  {
   "cell_type": "code",
   "execution_count": null,
   "metadata": {},
   "outputs": [],
   "source": [
    "print(\"df_original\")\n",
    "display(dfs_original.head())\n",
    "print(\"Valores únicos\")\n",
    "display(pd.DataFrame(dfs_original[\"description\"].unique()).sort_values(0))\n",
    "print(\"df_original_table\")\n",
    "display(df_original_table)\n",
    "print(\"df_original_table_correspondeces\")\n",
    "display(df_original_table_correspondeces)\n",
    "\n"
   ]
  },
  {
   "cell_type": "code",
   "execution_count": null,
   "metadata": {},
   "outputs": [],
   "source": [
    "dfs_original = dfs_original.merge(df_original_table_correspondeces, how='left', left_on=\"description\", right_on=\"Ocorrência DB-PX\")\n",
    "dfs_original.drop([\"Código\", \"Ocorrência DB-PX\", \"Ocorrência Tabela - Academia\"], axis=1, inplace=True)"
   ]
  },
  {
   "cell_type": "code",
   "execution_count": null,
   "metadata": {},
   "outputs": [],
   "source": [
    "mask = (dfs_original[\"description\"] == \"Desistência de contratos\") & (dfs_original[\"diff_horas\"] >= 36)\n",
    "dfs_original.loc[mask, \"Pontuação\"] = 0\n",
    "\n",
    "mask = ((dfs_original[\"description\"] == \"Desistência de contratos\") \n",
    "& (dfs_original[\"diff_horas\"] < 36)\n",
    "& (dfs_original[\"diff_horas\"] >= 12))\n",
    "dfs_original.loc[mask, \"Pontuação\"] = 125\n",
    "\n",
    "mask = ((dfs_original[\"description\"] == \"Desistência de contratos\") \n",
    "& (dfs_original[\"diff_horas\"] < 12)\n",
    "& (dfs_original[\"diff_horas\"] >= 0))\n",
    "dfs_original.loc[mask, \"Pontuação\"] = 185\n",
    "\n",
    "\n",
    "#OCORRENCIAS CRIADAS APÓS O INICIO DO CONTRATO\n",
    "mask = ((dfs_original[\"description\"] == \"Desistência de contratos\") \n",
    "& (dfs_original[\"diff_horas\"] < 0))\n",
    "dfs_original.loc[mask, \"Pontuação\"] = 125\n",
    "\n",
    "\n",
    "dfs_original = dfs_original.drop(\"diff_horas\", axis=1) "
   ]
  },
  {
   "cell_type": "code",
   "execution_count": null,
   "metadata": {},
   "outputs": [],
   "source": [
    "mask = dfs_original[\"description\"] == \"Dia agenciado\"\n",
    "dfs_original.loc[mask, \"Pontuação\"] = -1*dfs_original.loc[mask, \"observation\"].astype(float)\n"
   ]
  },
  {
   "cell_type": "code",
   "execution_count": null,
   "metadata": {},
   "outputs": [],
   "source": [
    "dfs_original.head(50)"
   ]
  },
  {
   "cell_type": "code",
   "execution_count": null,
   "metadata": {},
   "outputs": [],
   "source": [
    "import pandas as pd\n",
    "\n",
    "# Duplicate the original DataFrame\n",
    "df = dfs_original.copy()\n",
    "\n",
    "# Ensure numeric 'Pontuação' and datetime 'occurence_create'\n",
    "df['Pontuação'] = pd.to_numeric(df['Pontuação'], errors='coerce').fillna(0)\n",
    "df['occurence_create'] = pd.to_datetime(df['occurence_create'])\n",
    "\n",
    "# Calculate first and last event dates per driver\n",
    "first_dates = df.groupby('driver_id')['occurence_create'].min().rename('first_event')\n",
    "last_dates = df.groupby('driver_id')['occurence_create'].max().rename('last_event')\n",
    "\n",
    "# Calculate days elapsed between first and last event\n",
    "dias_elapsed = (last_dates - first_dates).dt.days.rename('Dias decorridos') * (-1)\n",
    "\n",
    "# Pivot for sum of Pontuação by driver_id and description\n",
    "pivot_df = (\n",
    "    df\n",
    "    .pivot_table(\n",
    "        index='driver_id',\n",
    "        columns='description',\n",
    "        values='Pontuação',\n",
    "        aggfunc='sum',\n",
    "        fill_value=0\n",
    "    )\n",
    "    .reset_index()\n",
    ")\n",
    "pivot_df.columns.name = None\n",
    "\n",
    "# Merge the elapsed days into pivot_df\n",
    "pivot_df = pivot_df.merge(dias_elapsed.reset_index(), on='driver_id')\n",
    "\n",
    "# Display the result\n",
    "pivot_df.head(2)\n"
   ]
  },
  {
   "cell_type": "code",
   "execution_count": null,
   "metadata": {},
   "outputs": [],
   "source": [
    "# Recarregar os módulos após reset\n",
    "import pandas as pd\n",
    "import numpy as np\n",
    "\n",
    "# Redefinir as colunas conforme fornecido\n",
    "columns = ['Abandono do veículo', 'Aceleração brusca', 'Acidente',\n",
    "           'Agressão física', 'Agressão verbal', 'Apropriação indevida', 'Avaria',\n",
    "           'Banguela', 'Bebidas', 'Checklist Irregular', 'Cinto de segurança',\n",
    "           'Comportamento', 'Conduta Motorista', 'Consumo médio',\n",
    "           'Cuidado com equipamento/carga', 'Cumprimento de normas',\n",
    "           'Desistência de contratos', 'Desvio de rota',\n",
    "           'Distração ao volante', 'Distância Perigosa', 'Extravio de bens',\n",
    "           'Extravio de carga', 'Fadiga na direção', 'Frenagem brusca',\n",
    "           'Fumar ao volante', 'Imprudência', 'Não comparecimento em contrato',\n",
    "           'Não retorna contato com a PX', 'Não retorna contato com cliente',\n",
    "           'Outros', 'Parada não autorizada', 'Pontualidade', 'Prisão',\n",
    "           'Problema de saúde', 'Relacionadas ao Motorista',\n",
    "           'Relacionadas ao Transportador', 'Reprovado na Brasil Risk',\n",
    "           'Reprovado na GR', 'Risco de tombamento', 'Sinistro',\n",
    "           'Substâncias ilícitas', 'Uso do celular', 'Veículo', 'Dias decorridos', 'Dia agenciado']\n",
    "\n",
    "\n",
    "# Calcular pontuação total\n",
    "pivot_df[\"Pontuação\"] = pivot_df[columns].sum(axis=1)\n",
    "\n",
    "# Aplicar regras para Ação\n",
    "dfs_original = pivot_df.copy()\n",
    "dfs_original[\"Ação\"] = \"Nenhuma\"\n",
    "dfs_original.loc[(dfs_original[\"Pontuação\"] > 370) & (dfs_original[\"Pontuação\"] <= 740), \"Ação\"] = \"Atualização\"\n",
    "dfs_original.loc[dfs_original[\"Pontuação\"] > 740, \"Ação\"] = \"Comitê\"\n"
   ]
  },
  {
   "cell_type": "code",
   "execution_count": null,
   "metadata": {},
   "outputs": [],
   "source": [
    "dfs_original.sort_values(\"Pontuação\", ascending=False).head()"
   ]
  },
  {
   "cell_type": "code",
   "execution_count": null,
   "metadata": {},
   "outputs": [],
   "source": [
    "dfs_original.to_csv(\"src/data/tabela_ocorrencias_dbpx_com_a_pontuação_academia.csv\", index=False)\n",
    "df_original_table_correspondeces.to_csv(\"src/data/tabela-dbpx-pontuação_academia.csv\", index=False)\n"
   ]
  },
  {
   "cell_type": "code",
   "execution_count": null,
   "metadata": {},
   "outputs": [],
   "source": [
    "import re\n",
    "import unicodedata\n",
    "import pandas as pd\n",
    "\n",
    "def sanitize_column(col: str) -> str:\n",
    "    # 1) Remover acentuação\n",
    "    nfkd = unicodedata.normalize('NFKD', col)\n",
    "    only_ascii = nfkd.encode('ASCII', 'ignore').decode('ASCII')\n",
    "    # 2) Substituir qualquer coisa que não seja [A-Z, a-z, 0-9, _] por '_'\n",
    "    clean = re.sub(r'[^0-9a-zA-Z_]', '_', only_ascii)\n",
    "    # 3) Se começar com dígito, prefixar '_'\n",
    "    if re.match(r'^[0-9]', clean):\n",
    "        clean = '_' + clean\n",
    "    # 4) Minúsculas\n",
    "    clean = clean.lower()\n",
    "    # 5) Truncar a 300 chars\n",
    "    return clean[:300]\n",
    "\n",
    "# Aplica o sanitize a **cada** coluna de df\n",
    "dfs_original.columns = [sanitize_column(c) for c in dfs_original.columns]\n",
    "\n",
    "# Agora df.columns tem o mesmo tamanho de antes, mas todos válidos para BigQuery\n",
    "print(dfs_original.columns.tolist())\n"
   ]
  },
  {
   "cell_type": "code",
   "execution_count": null,
   "metadata": {},
   "outputs": [],
   "source": [
    "texto = \"12 - Peso das ocorrências comportamentais\"\n",
    "hash_5_digitos = gerar_hash_numerica(texto)\n",
    "nome_tabela_bq = f\"{hash_5_digitos}_pontuacao_ocorrencias_academia\"\n",
    "print(f\"Hash numérica de 5 dígitos: {nome_tabela_bq}\")\n",
    "insert_into_bigquery(dfs_original, table_id=nome_tabela_bq)"
   ]
  }
 ],
 "metadata": {
  "kernelspec": {
   "display_name": ".pesos_ocorrencias_venv",
   "language": "python",
   "name": "python3"
  },
  "language_info": {
   "codemirror_mode": {
    "name": "ipython",
    "version": 3
   },
   "file_extension": ".py",
   "mimetype": "text/x-python",
   "name": "python",
   "nbconvert_exporter": "python",
   "pygments_lexer": "ipython3",
   "version": "3.10.12"
  }
 },
 "nbformat": 4,
 "nbformat_minor": 2
}
